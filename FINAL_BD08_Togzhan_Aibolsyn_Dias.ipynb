{
 "cells": [
  {
   "cell_type": "markdown",
   "source": "## Information Retrieval and Data Mining (Final)\n### BDA-2008 group: Togzhan Baydish, Dias Ali, Aibolsyn Aibekqyzy\n- I. Explore the dataset. Do the descriptive statistics.\n- II. Explanatory data analysis. Exploring the features, visualizations etc. (https://www.kaggle.com/learn/data-visualization, https://towardsdatascience.com/exploratory-data-analysis-8fc1cb20fd15, https://www.mastersindatascience.org/learning/what-is-exploratory-data-analysis/ )\n- III. Feature engineering. Encodings, generating the features from date-time, sum and from other columns. (https://www.kaggle.com/learn/feature-engineering, https://www.kaggle.com/learn/data-cleaning )\n- IV. Supervised learning. Build model for prediction the gender of the clients. Decision Trees, KNN, Random Forest. Tune the hyper parameters, grid search, cross validation etc. Visualization of the models etc..\n- V. Analyze models, Result comparison, ROC/AUC, precision and recall curves, deep analyzing.\n- VI. Conclusion.\n\n",
   "metadata": {
    "cell_id": "f6381360-ac70-4ab5-89f8-d6d790ca3e7a",
    "tags": [],
    "deepnote_cell_type": "markdown"
   }
  },
  {
   "cell_type": "markdown",
   "source": "### I. Explore the dataset. Do the descriptive statistics.",
   "metadata": {
    "cell_id": "ab08bec5-6363-4576-9585-69effcaade60",
    "tags": [],
    "deepnote_cell_type": "markdown"
   }
  },
  {
   "cell_type": "code",
   "metadata": {
    "tags": [],
    "cell_id": "c7abddf4-5c5e-46d9-89ca-c1f5b8814cb7",
    "deepnote_to_be_reexecuted": false,
    "source_hash": "7f7f707e",
    "execution_start": 1645557660893,
    "execution_millis": 4583,
    "deepnote_cell_type": "code"
   },
   "source": "import pandas as pd\nimport seaborn as sns\nfrom sklearn.cluster import KMeans\nimport numpy as np\nimport matplotlib.pyplot as plt\nfrom sklearn.model_selection import GridSearchCV, RandomizedSearchCV\nfrom sklearn.metrics import roc_auc_score, precision_score, precision_recall_curve, PrecisionRecallDisplay",
   "execution_count": 1,
   "outputs": []
  },
  {
   "cell_type": "code",
   "metadata": {
    "cell_id": "e6dd20dc-02a4-42e9-b44a-8ec78c58bfe6",
    "tags": [],
    "deepnote_to_be_reexecuted": false,
    "source_hash": "ce356275",
    "execution_start": 1645557665479,
    "execution_millis": 371,
    "deepnote_cell_type": "code"
   },
   "source": "transactions = pd.read_csv('transactions.csv', sep = \";\")\ncodes = pd.read_csv('codes.csv', sep = \";\")\ntypes = pd.read_csv('types.csv', sep = \";\")\ntrain = pd.read_csv('train_set.csv', sep=\";\")",
   "execution_count": 2,
   "outputs": []
  },
  {
   "cell_type": "code",
   "source": "data = transactions.set_index(\"client_id\").join(train.set_index(\"client_id\")).reset_index().dropna()\ndata.head()",
   "metadata": {
    "cell_id": "5e4ec65f-b97f-41be-8d12-1fc042372006",
    "tags": [],
    "deepnote_to_be_reexecuted": false,
    "source_hash": "12f135b6",
    "execution_start": 1645557665857,
    "execution_millis": 641,
    "deepnote_cell_type": "code"
   },
   "outputs": [
    {
     "output_type": "execute_result",
     "execution_count": 3,
     "data": {
      "application/vnd.deepnote.dataframe.v3+json": {
       "column_count": 6,
       "row_count": 5,
       "columns": [
        {
         "name": "client_id",
         "dtype": "int64",
         "stats": {
          "unique_count": 1,
          "nan_count": 0,
          "min": "22899",
          "max": "22899",
          "histogram": [
           {
            "bin_start": 22898.5,
            "bin_end": 22898.6,
            "count": 0
           },
           {
            "bin_start": 22898.6,
            "bin_end": 22898.7,
            "count": 0
           },
           {
            "bin_start": 22898.7,
            "bin_end": 22898.8,
            "count": 0
           },
           {
            "bin_start": 22898.8,
            "bin_end": 22898.9,
            "count": 0
           },
           {
            "bin_start": 22898.9,
            "bin_end": 22899,
            "count": 0
           },
           {
            "bin_start": 22899,
            "bin_end": 22899.1,
            "count": 5
           },
           {
            "bin_start": 22899.1,
            "bin_end": 22899.2,
            "count": 0
           },
           {
            "bin_start": 22899.2,
            "bin_end": 22899.3,
            "count": 0
           },
           {
            "bin_start": 22899.3,
            "bin_end": 22899.4,
            "count": 0
           },
           {
            "bin_start": 22899.4,
            "bin_end": 22899.5,
            "count": 0
           }
          ]
         }
        },
        {
         "name": "datetime",
         "dtype": "object",
         "stats": {
          "unique_count": 5,
          "nan_count": 0,
          "categories": [
           {
            "name": "231 09:31:53",
            "count": 1
           },
           {
            "name": "349 16:34:52",
            "count": 1
           },
           {
            "name": "3 others",
            "count": 3
           }
          ]
         }
        },
        {
         "name": "code",
         "dtype": "int64",
         "stats": {
          "unique_count": 3,
          "nan_count": 0,
          "min": "4814",
          "max": "6011",
          "histogram": [
           {
            "bin_start": 4814,
            "bin_end": 4933.7,
            "count": 1
           },
           {
            "bin_start": 4933.7,
            "bin_end": 5053.4,
            "count": 0
           },
           {
            "bin_start": 5053.4,
            "bin_end": 5173.1,
            "count": 0
           },
           {
            "bin_start": 5173.1,
            "bin_end": 5292.8,
            "count": 0
           },
           {
            "bin_start": 5292.8,
            "bin_end": 5412.5,
            "count": 1
           },
           {
            "bin_start": 5412.5,
            "bin_end": 5532.2,
            "count": 0
           },
           {
            "bin_start": 5532.2,
            "bin_end": 5651.9,
            "count": 0
           },
           {
            "bin_start": 5651.9,
            "bin_end": 5771.6,
            "count": 0
           },
           {
            "bin_start": 5771.6,
            "bin_end": 5891.3,
            "count": 0
           },
           {
            "bin_start": 5891.3,
            "bin_end": 6011,
            "count": 3
           }
          ]
         }
        },
        {
         "name": "type",
         "dtype": "int64",
         "stats": {
          "unique_count": 4,
          "nan_count": 0,
          "min": "1030",
          "max": "4010",
          "histogram": [
           {
            "bin_start": 1030,
            "bin_end": 1328,
            "count": 2
           },
           {
            "bin_start": 1328,
            "bin_end": 1626,
            "count": 0
           },
           {
            "bin_start": 1626,
            "bin_end": 1924,
            "count": 0
           },
           {
            "bin_start": 1924,
            "bin_end": 2222,
            "count": 1
           },
           {
            "bin_start": 2222,
            "bin_end": 2520,
            "count": 0
           },
           {
            "bin_start": 2520,
            "bin_end": 2818,
            "count": 0
           },
           {
            "bin_start": 2818,
            "bin_end": 3116,
            "count": 0
           },
           {
            "bin_start": 3116,
            "bin_end": 3414,
            "count": 0
           },
           {
            "bin_start": 3414,
            "bin_end": 3712,
            "count": 0
           },
           {
            "bin_start": 3712,
            "bin_end": 4010,
            "count": 2
           }
          ]
         }
        },
        {
         "name": "sum",
         "dtype": "float64",
         "stats": {
          "unique_count": 4,
          "nan_count": 0,
          "min": "-8759.07",
          "max": "-1122.96",
          "histogram": [
           {
            "bin_start": -8759.07,
            "bin_end": -7995.459,
            "count": 2
           },
           {
            "bin_start": -7995.459,
            "bin_end": -7231.848,
            "count": 0
           },
           {
            "bin_start": -7231.848,
            "bin_end": -6468.236999999999,
            "count": 1
           },
           {
            "bin_start": -6468.236999999999,
            "bin_end": -5704.626,
            "count": 0
           },
           {
            "bin_start": -5704.626,
            "bin_end": -4941.014999999999,
            "count": 0
           },
           {
            "bin_start": -4941.014999999999,
            "bin_end": -4177.4039999999995,
            "count": 1
           },
           {
            "bin_start": -4177.4039999999995,
            "bin_end": -3413.7929999999997,
            "count": 0
           },
           {
            "bin_start": -3413.7929999999997,
            "bin_end": -2650.182,
            "count": 0
           },
           {
            "bin_start": -2650.182,
            "bin_end": -1886.571,
            "count": 0
           },
           {
            "bin_start": -1886.571,
            "bin_end": -1122.96,
            "count": 1
           }
          ]
         }
        },
        {
         "name": "target",
         "dtype": "float64",
         "stats": {
          "unique_count": 1,
          "nan_count": 0,
          "min": "1.0",
          "max": "1.0",
          "histogram": [
           {
            "bin_start": 0.5,
            "bin_end": 0.6,
            "count": 0
           },
           {
            "bin_start": 0.6,
            "bin_end": 0.7,
            "count": 0
           },
           {
            "bin_start": 0.7,
            "bin_end": 0.8,
            "count": 0
           },
           {
            "bin_start": 0.8,
            "bin_end": 0.9,
            "count": 0
           },
           {
            "bin_start": 0.9,
            "bin_end": 1,
            "count": 0
           },
           {
            "bin_start": 1,
            "bin_end": 1.1,
            "count": 5
           },
           {
            "bin_start": 1.1,
            "bin_end": 1.2000000000000002,
            "count": 0
           },
           {
            "bin_start": 1.2000000000000002,
            "bin_end": 1.3,
            "count": 0
           },
           {
            "bin_start": 1.3,
            "bin_end": 1.4,
            "count": 0
           },
           {
            "bin_start": 1.4,
            "bin_end": 1.5,
            "count": 0
           }
          ]
         }
        },
        {
         "name": "_deepnote_index_column",
         "dtype": "int64"
        }
       ],
       "rows": [
        {
         "client_id": 22899,
         "datetime": "231 09:31:53",
         "code": 6011,
         "type": 2110,
         "sum": -6737.75,
         "target": 1,
         "_deepnote_index_column": 0
        },
        {
         "client_id": 22899,
         "datetime": "349 16:34:52",
         "code": 6011,
         "type": 4010,
         "sum": -8759.07,
         "target": 1,
         "_deepnote_index_column": 1
        },
        {
         "client_id": 22899,
         "datetime": "441 15:36:37",
         "code": 6011,
         "type": 4010,
         "sum": -8759.07,
         "target": 1,
         "_deepnote_index_column": 2
        },
        {
         "client_id": 22899,
         "datetime": "167 09:50:12",
         "code": 4814,
         "type": 1030,
         "sum": -1122.96,
         "target": 1,
         "_deepnote_index_column": 3
        },
        {
         "client_id": 22899,
         "datetime": "221 18:54:19",
         "code": 5399,
         "type": 1110,
         "sum": -4626.59,
         "target": 1,
         "_deepnote_index_column": 4
        }
       ]
      },
      "text/plain": "   client_id      datetime  code  type      sum  target\n0      22899  231 09:31:53  6011  2110 -6737.75     1.0\n1      22899  349 16:34:52  6011  4010 -8759.07     1.0\n2      22899  441 15:36:37  6011  4010 -8759.07     1.0\n3      22899  167 09:50:12  4814  1030 -1122.96     1.0\n4      22899  221 18:54:19  5399  1110 -4626.59     1.0",
      "text/html": "<div>\n<style scoped>\n    .dataframe tbody tr th:only-of-type {\n        vertical-align: middle;\n    }\n\n    .dataframe tbody tr th {\n        vertical-align: top;\n    }\n\n    .dataframe thead th {\n        text-align: right;\n    }\n</style>\n<table border=\"1\" class=\"dataframe\">\n  <thead>\n    <tr style=\"text-align: right;\">\n      <th></th>\n      <th>client_id</th>\n      <th>datetime</th>\n      <th>code</th>\n      <th>type</th>\n      <th>sum</th>\n      <th>target</th>\n    </tr>\n  </thead>\n  <tbody>\n    <tr>\n      <th>0</th>\n      <td>22899</td>\n      <td>231 09:31:53</td>\n      <td>6011</td>\n      <td>2110</td>\n      <td>-6737.75</td>\n      <td>1.0</td>\n    </tr>\n    <tr>\n      <th>1</th>\n      <td>22899</td>\n      <td>349 16:34:52</td>\n      <td>6011</td>\n      <td>4010</td>\n      <td>-8759.07</td>\n      <td>1.0</td>\n    </tr>\n    <tr>\n      <th>2</th>\n      <td>22899</td>\n      <td>441 15:36:37</td>\n      <td>6011</td>\n      <td>4010</td>\n      <td>-8759.07</td>\n      <td>1.0</td>\n    </tr>\n    <tr>\n      <th>3</th>\n      <td>22899</td>\n      <td>167 09:50:12</td>\n      <td>4814</td>\n      <td>1030</td>\n      <td>-1122.96</td>\n      <td>1.0</td>\n    </tr>\n    <tr>\n      <th>4</th>\n      <td>22899</td>\n      <td>221 18:54:19</td>\n      <td>5399</td>\n      <td>1110</td>\n      <td>-4626.59</td>\n      <td>1.0</td>\n    </tr>\n  </tbody>\n</table>\n</div>"
     },
     "metadata": {}
    }
   ],
   "execution_count": 3
  },
  {
   "cell_type": "code",
   "metadata": {
    "cell_id": "502e1cf5-3afa-4109-bd38-ad1d57c3f070",
    "tags": [],
    "deepnote_to_be_reexecuted": false,
    "source_hash": "2007f58",
    "execution_start": 1645557666090,
    "execution_millis": 409,
    "deepnote_cell_type": "code"
   },
   "source": "data.shape",
   "execution_count": 4,
   "outputs": [
    {
     "output_type": "execute_result",
     "execution_count": 4,
     "data": {
      "text/plain": "(91826, 6)"
     },
     "metadata": {}
    }
   ]
  },
  {
   "cell_type": "code",
   "metadata": {
    "cell_id": "b383fb00-9f88-4c41-8f5a-4e995e985aad",
    "tags": [],
    "deepnote_to_be_reexecuted": false,
    "source_hash": "957547ae",
    "execution_start": 1645557666120,
    "execution_millis": 389,
    "deepnote_cell_type": "code"
   },
   "source": "data.info()",
   "execution_count": 5,
   "outputs": [
    {
     "name": "stdout",
     "text": "<class 'pandas.core.frame.DataFrame'>\nInt64Index: 91826 entries, 0 to 130023\nData columns (total 6 columns):\n #   Column     Non-Null Count  Dtype  \n---  ------     --------------  -----  \n 0   client_id  91826 non-null  int64  \n 1   datetime   91826 non-null  object \n 2   code       91826 non-null  int64  \n 3   type       91826 non-null  int64  \n 4   sum        91826 non-null  float64\n 5   target     91826 non-null  float64\ndtypes: float64(2), int64(3), object(1)\nmemory usage: 4.9+ MB\n",
     "output_type": "stream"
    }
   ]
  },
  {
   "cell_type": "code",
   "metadata": {
    "cell_id": "efae2f77-ba88-4f9d-aef6-583f97f1a0e0",
    "tags": [],
    "deepnote_to_be_reexecuted": false,
    "source_hash": "878de0e4",
    "execution_start": 1645557666186,
    "execution_millis": 323,
    "deepnote_cell_type": "code"
   },
   "source": "data.isnull().sum()",
   "execution_count": 6,
   "outputs": [
    {
     "output_type": "execute_result",
     "execution_count": 6,
     "data": {
      "text/plain": "client_id    0\ndatetime     0\ncode         0\ntype         0\nsum          0\ntarget       0\ndtype: int64"
     },
     "metadata": {}
    }
   ]
  },
  {
   "cell_type": "code",
   "metadata": {
    "cell_id": "ba94860e-170d-4a29-a8a3-b1f24e23b1f0",
    "tags": [],
    "deepnote_to_be_reexecuted": false,
    "source_hash": "bd44383b",
    "execution_start": 1645557666235,
    "execution_millis": 279,
    "deepnote_cell_type": "code"
   },
   "source": "data.dropna().describe()",
   "execution_count": 7,
   "outputs": [
    {
     "output_type": "execute_result",
     "execution_count": 7,
     "data": {
      "application/vnd.deepnote.dataframe.v3+json": {
       "column_count": 5,
       "row_count": 8,
       "columns": [
        {
         "name": "client_id",
         "dtype": "float64",
         "stats": {
          "unique_count": 8,
          "nan_count": 0,
          "min": "22899.0",
          "max": "99991245.0",
          "histogram": [
           {
            "bin_start": 22899,
            "bin_end": 10019733.6,
            "count": 2
           },
           {
            "bin_start": 10019733.6,
            "bin_end": 20016568.2,
            "count": 0
           },
           {
            "bin_start": 20016568.2,
            "bin_end": 30013402.799999997,
            "count": 2
           },
           {
            "bin_start": 30013402.799999997,
            "bin_end": 40010237.4,
            "count": 0
           },
           {
            "bin_start": 40010237.4,
            "bin_end": 50007072,
            "count": 0
           },
           {
            "bin_start": 50007072,
            "bin_end": 60003906.599999994,
            "count": 2
           },
           {
            "bin_start": 60003906.599999994,
            "bin_end": 70000741.2,
            "count": 0
           },
           {
            "bin_start": 70000741.2,
            "bin_end": 79997575.8,
            "count": 1
           },
           {
            "bin_start": 79997575.8,
            "bin_end": 89994410.39999999,
            "count": 0
           },
           {
            "bin_start": 89994410.39999999,
            "bin_end": 99991245,
            "count": 1
           }
          ]
         }
        },
        {
         "name": "code",
         "dtype": "float64",
         "stats": {
          "unique_count": 8,
          "nan_count": 0,
          "min": "602.144813643198",
          "max": "91826.0",
          "histogram": [
           {
            "bin_start": 602.144813643198,
            "bin_end": 9724.530332278877,
            "count": 7
           },
           {
            "bin_start": 9724.530332278877,
            "bin_end": 18846.915850914556,
            "count": 0
           },
           {
            "bin_start": 18846.915850914556,
            "bin_end": 27969.301369550234,
            "count": 0
           },
           {
            "bin_start": 27969.301369550234,
            "bin_end": 37091.68688818592,
            "count": 0
           },
           {
            "bin_start": 37091.68688818592,
            "bin_end": 46214.0724068216,
            "count": 0
           },
           {
            "bin_start": 46214.0724068216,
            "bin_end": 55336.457925457275,
            "count": 0
           },
           {
            "bin_start": 55336.457925457275,
            "bin_end": 64458.843444092956,
            "count": 0
           },
           {
            "bin_start": 64458.843444092956,
            "bin_end": 73581.22896272864,
            "count": 0
           },
           {
            "bin_start": 73581.22896272864,
            "bin_end": 82703.61448136432,
            "count": 0
           },
           {
            "bin_start": 82703.61448136432,
            "bin_end": 91826,
            "count": 1
           }
          ]
         }
        },
        {
         "name": "type",
         "dtype": "float64",
         "stats": {
          "unique_count": 8,
          "nan_count": 0,
          "min": "1010.0",
          "max": "91826.0",
          "histogram": [
           {
            "bin_start": 1010,
            "bin_end": 10091.6,
            "count": 7
           },
           {
            "bin_start": 10091.6,
            "bin_end": 19173.2,
            "count": 0
           },
           {
            "bin_start": 19173.2,
            "bin_end": 28254.800000000003,
            "count": 0
           },
           {
            "bin_start": 28254.800000000003,
            "bin_end": 37336.4,
            "count": 0
           },
           {
            "bin_start": 37336.4,
            "bin_end": 46418,
            "count": 0
           },
           {
            "bin_start": 46418,
            "bin_end": 55499.600000000006,
            "count": 0
           },
           {
            "bin_start": 55499.600000000006,
            "bin_end": 64581.200000000004,
            "count": 0
           },
           {
            "bin_start": 64581.200000000004,
            "bin_end": 73662.8,
            "count": 0
           },
           {
            "bin_start": 73662.8,
            "bin_end": 82744.40000000001,
            "count": 0
           },
           {
            "bin_start": 82744.40000000001,
            "bin_end": 91826,
            "count": 1
           }
          ]
         }
        },
        {
         "name": "sum",
         "dtype": "float64",
         "stats": {
          "unique_count": 8,
          "nan_count": 0,
          "min": "-41500301.14",
          "max": "67377473.16",
          "histogram": [
           {
            "bin_start": -41500301.14,
            "bin_end": -30612523.71,
            "count": 1
           },
           {
            "bin_start": -30612523.71,
            "bin_end": -19724746.28,
            "count": 0
           },
           {
            "bin_start": -19724746.28,
            "bin_end": -8836968.850000001,
            "count": 0
           },
           {
            "bin_start": -8836968.850000001,
            "bin_end": 2050808.5799999982,
            "count": 6
           },
           {
            "bin_start": 2050808.5799999982,
            "bin_end": 12938586.009999998,
            "count": 0
           },
           {
            "bin_start": 12938586.009999998,
            "bin_end": 23826363.439999998,
            "count": 0
           },
           {
            "bin_start": 23826363.439999998,
            "bin_end": 34714140.86999999,
            "count": 0
           },
           {
            "bin_start": 34714140.86999999,
            "bin_end": 45601918.3,
            "count": 0
           },
           {
            "bin_start": 45601918.3,
            "bin_end": 56489695.730000004,
            "count": 0
           },
           {
            "bin_start": 56489695.730000004,
            "bin_end": 67377473.16,
            "count": 1
           }
          ]
         }
        },
        {
         "name": "target",
         "dtype": "float64",
         "stats": {
          "unique_count": 5,
          "nan_count": 0,
          "min": "0.0",
          "max": "91826.0",
          "histogram": [
           {
            "bin_start": 0,
            "bin_end": 9182.6,
            "count": 7
           },
           {
            "bin_start": 9182.6,
            "bin_end": 18365.2,
            "count": 0
           },
           {
            "bin_start": 18365.2,
            "bin_end": 27547.800000000003,
            "count": 0
           },
           {
            "bin_start": 27547.800000000003,
            "bin_end": 36730.4,
            "count": 0
           },
           {
            "bin_start": 36730.4,
            "bin_end": 45913,
            "count": 0
           },
           {
            "bin_start": 45913,
            "bin_end": 55095.600000000006,
            "count": 0
           },
           {
            "bin_start": 55095.600000000006,
            "bin_end": 64278.200000000004,
            "count": 0
           },
           {
            "bin_start": 64278.200000000004,
            "bin_end": 73460.8,
            "count": 0
           },
           {
            "bin_start": 73460.8,
            "bin_end": 82643.40000000001,
            "count": 0
           },
           {
            "bin_start": 82643.40000000001,
            "bin_end": 91826,
            "count": 1
           }
          ]
         }
        },
        {
         "name": "_deepnote_index_column",
         "dtype": "object"
        }
       ],
       "rows": [
        {
         "client_id": 91826,
         "code": 91826,
         "type": 91826,
         "sum": 91826,
         "target": 91826,
         "_deepnote_index_column": "count"
        },
        {
         "client_id": 51693681.865669854,
         "code": 5596.441389149043,
         "type": 2549.4834033933744,
         "sum": -16669.96855008385,
         "target": 0.49126609021410056,
         "_deepnote_index_column": "mean"
        },
        {
         "client_id": 28399447.08504911,
         "code": 602.144813643198,
         "type": 2295.5811319120003,
         "sum": 623229.7223635814,
         "target": 0.49992643514744706,
         "_deepnote_index_column": "std"
        },
        {
         "client_id": 22899,
         "code": 742,
         "type": 1010,
         "sum": -41500301.14,
         "target": 0,
         "_deepnote_index_column": "min"
        },
        {
         "client_id": 27360511,
         "code": 5251,
         "type": 1030,
         "sum": -21560.79,
         "target": 0,
         "_deepnote_index_column": "25%"
        },
        {
         "client_id": 53883700,
         "code": 5661,
         "type": 1110,
         "sum": -5239.16,
         "target": 0,
         "_deepnote_index_column": "50%"
        },
        {
         "client_id": 75521890,
         "code": 6010,
         "type": 2370,
         "sum": -1122.96,
         "target": 1,
         "_deepnote_index_column": "75%"
        },
        {
         "client_id": 99991245,
         "code": 9402,
         "type": 8145,
         "sum": 67377473.16,
         "target": 1,
         "_deepnote_index_column": "max"
        }
       ]
      },
      "text/plain": "          client_id          code          type           sum        target\ncount  9.182600e+04  91826.000000  91826.000000  9.182600e+04  91826.000000\nmean   5.169368e+07   5596.441389   2549.483403 -1.666997e+04      0.491266\nstd    2.839945e+07    602.144814   2295.581132  6.232297e+05      0.499926\nmin    2.289900e+04    742.000000   1010.000000 -4.150030e+07      0.000000\n25%    2.736051e+07   5251.000000   1030.000000 -2.156079e+04      0.000000\n50%    5.388370e+07   5661.000000   1110.000000 -5.239160e+03      0.000000\n75%    7.552189e+07   6010.000000   2370.000000 -1.122960e+03      1.000000\nmax    9.999124e+07   9402.000000   8145.000000  6.737747e+07      1.000000",
      "text/html": "<div>\n<style scoped>\n    .dataframe tbody tr th:only-of-type {\n        vertical-align: middle;\n    }\n\n    .dataframe tbody tr th {\n        vertical-align: top;\n    }\n\n    .dataframe thead th {\n        text-align: right;\n    }\n</style>\n<table border=\"1\" class=\"dataframe\">\n  <thead>\n    <tr style=\"text-align: right;\">\n      <th></th>\n      <th>client_id</th>\n      <th>code</th>\n      <th>type</th>\n      <th>sum</th>\n      <th>target</th>\n    </tr>\n  </thead>\n  <tbody>\n    <tr>\n      <th>count</th>\n      <td>9.182600e+04</td>\n      <td>91826.000000</td>\n      <td>91826.000000</td>\n      <td>9.182600e+04</td>\n      <td>91826.000000</td>\n    </tr>\n    <tr>\n      <th>mean</th>\n      <td>5.169368e+07</td>\n      <td>5596.441389</td>\n      <td>2549.483403</td>\n      <td>-1.666997e+04</td>\n      <td>0.491266</td>\n    </tr>\n    <tr>\n      <th>std</th>\n      <td>2.839945e+07</td>\n      <td>602.144814</td>\n      <td>2295.581132</td>\n      <td>6.232297e+05</td>\n      <td>0.499926</td>\n    </tr>\n    <tr>\n      <th>min</th>\n      <td>2.289900e+04</td>\n      <td>742.000000</td>\n      <td>1010.000000</td>\n      <td>-4.150030e+07</td>\n      <td>0.000000</td>\n    </tr>\n    <tr>\n      <th>25%</th>\n      <td>2.736051e+07</td>\n      <td>5251.000000</td>\n      <td>1030.000000</td>\n      <td>-2.156079e+04</td>\n      <td>0.000000</td>\n    </tr>\n    <tr>\n      <th>50%</th>\n      <td>5.388370e+07</td>\n      <td>5661.000000</td>\n      <td>1110.000000</td>\n      <td>-5.239160e+03</td>\n      <td>0.000000</td>\n    </tr>\n    <tr>\n      <th>75%</th>\n      <td>7.552189e+07</td>\n      <td>6010.000000</td>\n      <td>2370.000000</td>\n      <td>-1.122960e+03</td>\n      <td>1.000000</td>\n    </tr>\n    <tr>\n      <th>max</th>\n      <td>9.999124e+07</td>\n      <td>9402.000000</td>\n      <td>8145.000000</td>\n      <td>6.737747e+07</td>\n      <td>1.000000</td>\n    </tr>\n  </tbody>\n</table>\n</div>"
     },
     "metadata": {}
    }
   ]
  },
  {
   "cell_type": "code",
   "metadata": {
    "cell_id": "76bdfbdc-4b50-4248-b548-4be61df26da0",
    "tags": [],
    "deepnote_to_be_reexecuted": false,
    "source_hash": "6b1984ae",
    "execution_start": 1645557666428,
    "execution_millis": 8,
    "deepnote_cell_type": "code"
   },
   "source": "data.dropna(how=\"any\", inplace=True)",
   "execution_count": 8,
   "outputs": []
  },
  {
   "cell_type": "code",
   "metadata": {
    "cell_id": "89cd25fd-3722-4433-a68c-91fc6e0949ac",
    "tags": [],
    "deepnote_to_be_reexecuted": false,
    "source_hash": "2007f58",
    "execution_start": 1645557666463,
    "execution_millis": 53,
    "deepnote_cell_type": "code"
   },
   "source": "data.shape",
   "execution_count": 9,
   "outputs": [
    {
     "output_type": "execute_result",
     "execution_count": 9,
     "data": {
      "text/plain": "(91826, 6)"
     },
     "metadata": {}
    }
   ]
  },
  {
   "cell_type": "code",
   "metadata": {
    "cell_id": "62770117-d44a-4e55-9baf-cb2bb891492a",
    "tags": [],
    "deepnote_to_be_reexecuted": false,
    "source_hash": "d786443f",
    "execution_start": 1645557666491,
    "execution_millis": 112,
    "deepnote_cell_type": "code"
   },
   "source": "data.describe()",
   "execution_count": 10,
   "outputs": [
    {
     "output_type": "execute_result",
     "execution_count": 10,
     "data": {
      "application/vnd.deepnote.dataframe.v3+json": {
       "column_count": 5,
       "row_count": 8,
       "columns": [
        {
         "name": "client_id",
         "dtype": "float64",
         "stats": {
          "unique_count": 8,
          "nan_count": 0,
          "min": "22899.0",
          "max": "99991245.0",
          "histogram": [
           {
            "bin_start": 22899,
            "bin_end": 10019733.6,
            "count": 2
           },
           {
            "bin_start": 10019733.6,
            "bin_end": 20016568.2,
            "count": 0
           },
           {
            "bin_start": 20016568.2,
            "bin_end": 30013402.799999997,
            "count": 2
           },
           {
            "bin_start": 30013402.799999997,
            "bin_end": 40010237.4,
            "count": 0
           },
           {
            "bin_start": 40010237.4,
            "bin_end": 50007072,
            "count": 0
           },
           {
            "bin_start": 50007072,
            "bin_end": 60003906.599999994,
            "count": 2
           },
           {
            "bin_start": 60003906.599999994,
            "bin_end": 70000741.2,
            "count": 0
           },
           {
            "bin_start": 70000741.2,
            "bin_end": 79997575.8,
            "count": 1
           },
           {
            "bin_start": 79997575.8,
            "bin_end": 89994410.39999999,
            "count": 0
           },
           {
            "bin_start": 89994410.39999999,
            "bin_end": 99991245,
            "count": 1
           }
          ]
         }
        },
        {
         "name": "code",
         "dtype": "float64",
         "stats": {
          "unique_count": 8,
          "nan_count": 0,
          "min": "602.144813643198",
          "max": "91826.0",
          "histogram": [
           {
            "bin_start": 602.144813643198,
            "bin_end": 9724.530332278877,
            "count": 7
           },
           {
            "bin_start": 9724.530332278877,
            "bin_end": 18846.915850914556,
            "count": 0
           },
           {
            "bin_start": 18846.915850914556,
            "bin_end": 27969.301369550234,
            "count": 0
           },
           {
            "bin_start": 27969.301369550234,
            "bin_end": 37091.68688818592,
            "count": 0
           },
           {
            "bin_start": 37091.68688818592,
            "bin_end": 46214.0724068216,
            "count": 0
           },
           {
            "bin_start": 46214.0724068216,
            "bin_end": 55336.457925457275,
            "count": 0
           },
           {
            "bin_start": 55336.457925457275,
            "bin_end": 64458.843444092956,
            "count": 0
           },
           {
            "bin_start": 64458.843444092956,
            "bin_end": 73581.22896272864,
            "count": 0
           },
           {
            "bin_start": 73581.22896272864,
            "bin_end": 82703.61448136432,
            "count": 0
           },
           {
            "bin_start": 82703.61448136432,
            "bin_end": 91826,
            "count": 1
           }
          ]
         }
        },
        {
         "name": "type",
         "dtype": "float64",
         "stats": {
          "unique_count": 8,
          "nan_count": 0,
          "min": "1010.0",
          "max": "91826.0",
          "histogram": [
           {
            "bin_start": 1010,
            "bin_end": 10091.6,
            "count": 7
           },
           {
            "bin_start": 10091.6,
            "bin_end": 19173.2,
            "count": 0
           },
           {
            "bin_start": 19173.2,
            "bin_end": 28254.800000000003,
            "count": 0
           },
           {
            "bin_start": 28254.800000000003,
            "bin_end": 37336.4,
            "count": 0
           },
           {
            "bin_start": 37336.4,
            "bin_end": 46418,
            "count": 0
           },
           {
            "bin_start": 46418,
            "bin_end": 55499.600000000006,
            "count": 0
           },
           {
            "bin_start": 55499.600000000006,
            "bin_end": 64581.200000000004,
            "count": 0
           },
           {
            "bin_start": 64581.200000000004,
            "bin_end": 73662.8,
            "count": 0
           },
           {
            "bin_start": 73662.8,
            "bin_end": 82744.40000000001,
            "count": 0
           },
           {
            "bin_start": 82744.40000000001,
            "bin_end": 91826,
            "count": 1
           }
          ]
         }
        },
        {
         "name": "sum",
         "dtype": "float64",
         "stats": {
          "unique_count": 8,
          "nan_count": 0,
          "min": "-41500301.14",
          "max": "67377473.16",
          "histogram": [
           {
            "bin_start": -41500301.14,
            "bin_end": -30612523.71,
            "count": 1
           },
           {
            "bin_start": -30612523.71,
            "bin_end": -19724746.28,
            "count": 0
           },
           {
            "bin_start": -19724746.28,
            "bin_end": -8836968.850000001,
            "count": 0
           },
           {
            "bin_start": -8836968.850000001,
            "bin_end": 2050808.5799999982,
            "count": 6
           },
           {
            "bin_start": 2050808.5799999982,
            "bin_end": 12938586.009999998,
            "count": 0
           },
           {
            "bin_start": 12938586.009999998,
            "bin_end": 23826363.439999998,
            "count": 0
           },
           {
            "bin_start": 23826363.439999998,
            "bin_end": 34714140.86999999,
            "count": 0
           },
           {
            "bin_start": 34714140.86999999,
            "bin_end": 45601918.3,
            "count": 0
           },
           {
            "bin_start": 45601918.3,
            "bin_end": 56489695.730000004,
            "count": 0
           },
           {
            "bin_start": 56489695.730000004,
            "bin_end": 67377473.16,
            "count": 1
           }
          ]
         }
        },
        {
         "name": "target",
         "dtype": "float64",
         "stats": {
          "unique_count": 5,
          "nan_count": 0,
          "min": "0.0",
          "max": "91826.0",
          "histogram": [
           {
            "bin_start": 0,
            "bin_end": 9182.6,
            "count": 7
           },
           {
            "bin_start": 9182.6,
            "bin_end": 18365.2,
            "count": 0
           },
           {
            "bin_start": 18365.2,
            "bin_end": 27547.800000000003,
            "count": 0
           },
           {
            "bin_start": 27547.800000000003,
            "bin_end": 36730.4,
            "count": 0
           },
           {
            "bin_start": 36730.4,
            "bin_end": 45913,
            "count": 0
           },
           {
            "bin_start": 45913,
            "bin_end": 55095.600000000006,
            "count": 0
           },
           {
            "bin_start": 55095.600000000006,
            "bin_end": 64278.200000000004,
            "count": 0
           },
           {
            "bin_start": 64278.200000000004,
            "bin_end": 73460.8,
            "count": 0
           },
           {
            "bin_start": 73460.8,
            "bin_end": 82643.40000000001,
            "count": 0
           },
           {
            "bin_start": 82643.40000000001,
            "bin_end": 91826,
            "count": 1
           }
          ]
         }
        },
        {
         "name": "_deepnote_index_column",
         "dtype": "object"
        }
       ],
       "rows": [
        {
         "client_id": 91826,
         "code": 91826,
         "type": 91826,
         "sum": 91826,
         "target": 91826,
         "_deepnote_index_column": "count"
        },
        {
         "client_id": 51693681.865669854,
         "code": 5596.441389149043,
         "type": 2549.4834033933744,
         "sum": -16669.96855008385,
         "target": 0.49126609021410056,
         "_deepnote_index_column": "mean"
        },
        {
         "client_id": 28399447.08504911,
         "code": 602.144813643198,
         "type": 2295.5811319120003,
         "sum": 623229.7223635814,
         "target": 0.49992643514744706,
         "_deepnote_index_column": "std"
        },
        {
         "client_id": 22899,
         "code": 742,
         "type": 1010,
         "sum": -41500301.14,
         "target": 0,
         "_deepnote_index_column": "min"
        },
        {
         "client_id": 27360511,
         "code": 5251,
         "type": 1030,
         "sum": -21560.79,
         "target": 0,
         "_deepnote_index_column": "25%"
        },
        {
         "client_id": 53883700,
         "code": 5661,
         "type": 1110,
         "sum": -5239.16,
         "target": 0,
         "_deepnote_index_column": "50%"
        },
        {
         "client_id": 75521890,
         "code": 6010,
         "type": 2370,
         "sum": -1122.96,
         "target": 1,
         "_deepnote_index_column": "75%"
        },
        {
         "client_id": 99991245,
         "code": 9402,
         "type": 8145,
         "sum": 67377473.16,
         "target": 1,
         "_deepnote_index_column": "max"
        }
       ]
      },
      "text/plain": "          client_id          code          type           sum        target\ncount  9.182600e+04  91826.000000  91826.000000  9.182600e+04  91826.000000\nmean   5.169368e+07   5596.441389   2549.483403 -1.666997e+04      0.491266\nstd    2.839945e+07    602.144814   2295.581132  6.232297e+05      0.499926\nmin    2.289900e+04    742.000000   1010.000000 -4.150030e+07      0.000000\n25%    2.736051e+07   5251.000000   1030.000000 -2.156079e+04      0.000000\n50%    5.388370e+07   5661.000000   1110.000000 -5.239160e+03      0.000000\n75%    7.552189e+07   6010.000000   2370.000000 -1.122960e+03      1.000000\nmax    9.999124e+07   9402.000000   8145.000000  6.737747e+07      1.000000",
      "text/html": "<div>\n<style scoped>\n    .dataframe tbody tr th:only-of-type {\n        vertical-align: middle;\n    }\n\n    .dataframe tbody tr th {\n        vertical-align: top;\n    }\n\n    .dataframe thead th {\n        text-align: right;\n    }\n</style>\n<table border=\"1\" class=\"dataframe\">\n  <thead>\n    <tr style=\"text-align: right;\">\n      <th></th>\n      <th>client_id</th>\n      <th>code</th>\n      <th>type</th>\n      <th>sum</th>\n      <th>target</th>\n    </tr>\n  </thead>\n  <tbody>\n    <tr>\n      <th>count</th>\n      <td>9.182600e+04</td>\n      <td>91826.000000</td>\n      <td>91826.000000</td>\n      <td>9.182600e+04</td>\n      <td>91826.000000</td>\n    </tr>\n    <tr>\n      <th>mean</th>\n      <td>5.169368e+07</td>\n      <td>5596.441389</td>\n      <td>2549.483403</td>\n      <td>-1.666997e+04</td>\n      <td>0.491266</td>\n    </tr>\n    <tr>\n      <th>std</th>\n      <td>2.839945e+07</td>\n      <td>602.144814</td>\n      <td>2295.581132</td>\n      <td>6.232297e+05</td>\n      <td>0.499926</td>\n    </tr>\n    <tr>\n      <th>min</th>\n      <td>2.289900e+04</td>\n      <td>742.000000</td>\n      <td>1010.000000</td>\n      <td>-4.150030e+07</td>\n      <td>0.000000</td>\n    </tr>\n    <tr>\n      <th>25%</th>\n      <td>2.736051e+07</td>\n      <td>5251.000000</td>\n      <td>1030.000000</td>\n      <td>-2.156079e+04</td>\n      <td>0.000000</td>\n    </tr>\n    <tr>\n      <th>50%</th>\n      <td>5.388370e+07</td>\n      <td>5661.000000</td>\n      <td>1110.000000</td>\n      <td>-5.239160e+03</td>\n      <td>0.000000</td>\n    </tr>\n    <tr>\n      <th>75%</th>\n      <td>7.552189e+07</td>\n      <td>6010.000000</td>\n      <td>2370.000000</td>\n      <td>-1.122960e+03</td>\n      <td>1.000000</td>\n    </tr>\n    <tr>\n      <th>max</th>\n      <td>9.999124e+07</td>\n      <td>9402.000000</td>\n      <td>8145.000000</td>\n      <td>6.737747e+07</td>\n      <td>1.000000</td>\n    </tr>\n  </tbody>\n</table>\n</div>"
     },
     "metadata": {}
    }
   ]
  },
  {
   "cell_type": "code",
   "metadata": {
    "cell_id": "16cc4b83-1d28-4ed4-afb4-d539e53713bd",
    "tags": [],
    "deepnote_to_be_reexecuted": false,
    "source_hash": "a966103d",
    "execution_start": 1645557666604,
    "execution_millis": 7,
    "deepnote_cell_type": "code"
   },
   "source": "# To get dataset of only numbers\ndata_num = data.select_dtypes(include = ['float64', 'int64'])\ndata_num.head()",
   "execution_count": 11,
   "outputs": [
    {
     "output_type": "execute_result",
     "execution_count": 11,
     "data": {
      "application/vnd.deepnote.dataframe.v3+json": {
       "column_count": 5,
       "row_count": 5,
       "columns": [
        {
         "name": "client_id",
         "dtype": "int64",
         "stats": {
          "unique_count": 1,
          "nan_count": 0,
          "min": "22899",
          "max": "22899",
          "histogram": [
           {
            "bin_start": 22898.5,
            "bin_end": 22898.6,
            "count": 0
           },
           {
            "bin_start": 22898.6,
            "bin_end": 22898.7,
            "count": 0
           },
           {
            "bin_start": 22898.7,
            "bin_end": 22898.8,
            "count": 0
           },
           {
            "bin_start": 22898.8,
            "bin_end": 22898.9,
            "count": 0
           },
           {
            "bin_start": 22898.9,
            "bin_end": 22899,
            "count": 0
           },
           {
            "bin_start": 22899,
            "bin_end": 22899.1,
            "count": 5
           },
           {
            "bin_start": 22899.1,
            "bin_end": 22899.2,
            "count": 0
           },
           {
            "bin_start": 22899.2,
            "bin_end": 22899.3,
            "count": 0
           },
           {
            "bin_start": 22899.3,
            "bin_end": 22899.4,
            "count": 0
           },
           {
            "bin_start": 22899.4,
            "bin_end": 22899.5,
            "count": 0
           }
          ]
         }
        },
        {
         "name": "code",
         "dtype": "int64",
         "stats": {
          "unique_count": 3,
          "nan_count": 0,
          "min": "4814",
          "max": "6011",
          "histogram": [
           {
            "bin_start": 4814,
            "bin_end": 4933.7,
            "count": 1
           },
           {
            "bin_start": 4933.7,
            "bin_end": 5053.4,
            "count": 0
           },
           {
            "bin_start": 5053.4,
            "bin_end": 5173.1,
            "count": 0
           },
           {
            "bin_start": 5173.1,
            "bin_end": 5292.8,
            "count": 0
           },
           {
            "bin_start": 5292.8,
            "bin_end": 5412.5,
            "count": 1
           },
           {
            "bin_start": 5412.5,
            "bin_end": 5532.2,
            "count": 0
           },
           {
            "bin_start": 5532.2,
            "bin_end": 5651.9,
            "count": 0
           },
           {
            "bin_start": 5651.9,
            "bin_end": 5771.6,
            "count": 0
           },
           {
            "bin_start": 5771.6,
            "bin_end": 5891.3,
            "count": 0
           },
           {
            "bin_start": 5891.3,
            "bin_end": 6011,
            "count": 3
           }
          ]
         }
        },
        {
         "name": "type",
         "dtype": "int64",
         "stats": {
          "unique_count": 4,
          "nan_count": 0,
          "min": "1030",
          "max": "4010",
          "histogram": [
           {
            "bin_start": 1030,
            "bin_end": 1328,
            "count": 2
           },
           {
            "bin_start": 1328,
            "bin_end": 1626,
            "count": 0
           },
           {
            "bin_start": 1626,
            "bin_end": 1924,
            "count": 0
           },
           {
            "bin_start": 1924,
            "bin_end": 2222,
            "count": 1
           },
           {
            "bin_start": 2222,
            "bin_end": 2520,
            "count": 0
           },
           {
            "bin_start": 2520,
            "bin_end": 2818,
            "count": 0
           },
           {
            "bin_start": 2818,
            "bin_end": 3116,
            "count": 0
           },
           {
            "bin_start": 3116,
            "bin_end": 3414,
            "count": 0
           },
           {
            "bin_start": 3414,
            "bin_end": 3712,
            "count": 0
           },
           {
            "bin_start": 3712,
            "bin_end": 4010,
            "count": 2
           }
          ]
         }
        },
        {
         "name": "sum",
         "dtype": "float64",
         "stats": {
          "unique_count": 4,
          "nan_count": 0,
          "min": "-8759.07",
          "max": "-1122.96",
          "histogram": [
           {
            "bin_start": -8759.07,
            "bin_end": -7995.459,
            "count": 2
           },
           {
            "bin_start": -7995.459,
            "bin_end": -7231.848,
            "count": 0
           },
           {
            "bin_start": -7231.848,
            "bin_end": -6468.236999999999,
            "count": 1
           },
           {
            "bin_start": -6468.236999999999,
            "bin_end": -5704.626,
            "count": 0
           },
           {
            "bin_start": -5704.626,
            "bin_end": -4941.014999999999,
            "count": 0
           },
           {
            "bin_start": -4941.014999999999,
            "bin_end": -4177.4039999999995,
            "count": 1
           },
           {
            "bin_start": -4177.4039999999995,
            "bin_end": -3413.7929999999997,
            "count": 0
           },
           {
            "bin_start": -3413.7929999999997,
            "bin_end": -2650.182,
            "count": 0
           },
           {
            "bin_start": -2650.182,
            "bin_end": -1886.571,
            "count": 0
           },
           {
            "bin_start": -1886.571,
            "bin_end": -1122.96,
            "count": 1
           }
          ]
         }
        },
        {
         "name": "target",
         "dtype": "float64",
         "stats": {
          "unique_count": 1,
          "nan_count": 0,
          "min": "1.0",
          "max": "1.0",
          "histogram": [
           {
            "bin_start": 0.5,
            "bin_end": 0.6,
            "count": 0
           },
           {
            "bin_start": 0.6,
            "bin_end": 0.7,
            "count": 0
           },
           {
            "bin_start": 0.7,
            "bin_end": 0.8,
            "count": 0
           },
           {
            "bin_start": 0.8,
            "bin_end": 0.9,
            "count": 0
           },
           {
            "bin_start": 0.9,
            "bin_end": 1,
            "count": 0
           },
           {
            "bin_start": 1,
            "bin_end": 1.1,
            "count": 5
           },
           {
            "bin_start": 1.1,
            "bin_end": 1.2000000000000002,
            "count": 0
           },
           {
            "bin_start": 1.2000000000000002,
            "bin_end": 1.3,
            "count": 0
           },
           {
            "bin_start": 1.3,
            "bin_end": 1.4,
            "count": 0
           },
           {
            "bin_start": 1.4,
            "bin_end": 1.5,
            "count": 0
           }
          ]
         }
        },
        {
         "name": "_deepnote_index_column",
         "dtype": "int64"
        }
       ],
       "rows": [
        {
         "client_id": 22899,
         "code": 6011,
         "type": 2110,
         "sum": -6737.75,
         "target": 1,
         "_deepnote_index_column": 0
        },
        {
         "client_id": 22899,
         "code": 6011,
         "type": 4010,
         "sum": -8759.07,
         "target": 1,
         "_deepnote_index_column": 1
        },
        {
         "client_id": 22899,
         "code": 6011,
         "type": 4010,
         "sum": -8759.07,
         "target": 1,
         "_deepnote_index_column": 2
        },
        {
         "client_id": 22899,
         "code": 4814,
         "type": 1030,
         "sum": -1122.96,
         "target": 1,
         "_deepnote_index_column": 3
        },
        {
         "client_id": 22899,
         "code": 5399,
         "type": 1110,
         "sum": -4626.59,
         "target": 1,
         "_deepnote_index_column": 4
        }
       ]
      },
      "text/plain": "   client_id  code  type      sum  target\n0      22899  6011  2110 -6737.75     1.0\n1      22899  6011  4010 -8759.07     1.0\n2      22899  6011  4010 -8759.07     1.0\n3      22899  4814  1030 -1122.96     1.0\n4      22899  5399  1110 -4626.59     1.0",
      "text/html": "<div>\n<style scoped>\n    .dataframe tbody tr th:only-of-type {\n        vertical-align: middle;\n    }\n\n    .dataframe tbody tr th {\n        vertical-align: top;\n    }\n\n    .dataframe thead th {\n        text-align: right;\n    }\n</style>\n<table border=\"1\" class=\"dataframe\">\n  <thead>\n    <tr style=\"text-align: right;\">\n      <th></th>\n      <th>client_id</th>\n      <th>code</th>\n      <th>type</th>\n      <th>sum</th>\n      <th>target</th>\n    </tr>\n  </thead>\n  <tbody>\n    <tr>\n      <th>0</th>\n      <td>22899</td>\n      <td>6011</td>\n      <td>2110</td>\n      <td>-6737.75</td>\n      <td>1.0</td>\n    </tr>\n    <tr>\n      <th>1</th>\n      <td>22899</td>\n      <td>6011</td>\n      <td>4010</td>\n      <td>-8759.07</td>\n      <td>1.0</td>\n    </tr>\n    <tr>\n      <th>2</th>\n      <td>22899</td>\n      <td>6011</td>\n      <td>4010</td>\n      <td>-8759.07</td>\n      <td>1.0</td>\n    </tr>\n    <tr>\n      <th>3</th>\n      <td>22899</td>\n      <td>4814</td>\n      <td>1030</td>\n      <td>-1122.96</td>\n      <td>1.0</td>\n    </tr>\n    <tr>\n      <th>4</th>\n      <td>22899</td>\n      <td>5399</td>\n      <td>1110</td>\n      <td>-4626.59</td>\n      <td>1.0</td>\n    </tr>\n  </tbody>\n</table>\n</div>"
     },
     "metadata": {}
    }
   ]
  },
  {
   "cell_type": "code",
   "metadata": {
    "cell_id": "7400335d-5c73-4aa0-8db1-508a3818f564",
    "tags": [],
    "deepnote_to_be_reexecuted": false,
    "source_hash": "1727ba77",
    "execution_start": 1645557666664,
    "execution_millis": 235,
    "deepnote_cell_type": "code"
   },
   "source": "# Get Most Frequent value for all columns\nfrom pandas.api.types import is_categorical_dtype\n\nfor col in data.columns:\n    print(col, end=' - \\n')\n    print('_' * 50)\n    if col in ['Type description'] or is_categorical_dtype(col):\n        display(pd.DataFrame(data[col].astype('str').value_counts().sort_values(ascending=False).head(3)))\n    else:\n        display(pd.DataFrame(data[col].value_counts().sort_values(ascending=False).head(5)))",
   "execution_count": 12,
   "outputs": [
    {
     "name": "stdout",
     "text": "client_id - \n__________________________________________________\n",
     "output_type": "stream"
    },
    {
     "data": {
      "text/plain": "          client_id\n70780820       2777\n87252636        497\n76043922        463\n29041434        442\n53854864        380",
      "text/html": "<div>\n<style scoped>\n    .dataframe tbody tr th:only-of-type {\n        vertical-align: middle;\n    }\n\n    .dataframe tbody tr th {\n        vertical-align: top;\n    }\n\n    .dataframe thead th {\n        text-align: right;\n    }\n</style>\n<table border=\"1\" class=\"dataframe\">\n  <thead>\n    <tr style=\"text-align: right;\">\n      <th></th>\n      <th>client_id</th>\n    </tr>\n  </thead>\n  <tbody>\n    <tr>\n      <th>70780820</th>\n      <td>2777</td>\n    </tr>\n    <tr>\n      <th>87252636</th>\n      <td>497</td>\n    </tr>\n    <tr>\n      <th>76043922</th>\n      <td>463</td>\n    </tr>\n    <tr>\n      <th>29041434</th>\n      <td>442</td>\n    </tr>\n    <tr>\n      <th>53854864</th>\n      <td>380</td>\n    </tr>\n  </tbody>\n</table>\n</div>"
     },
     "metadata": {},
     "output_type": "display_data"
    },
    {
     "name": "stdout",
     "text": "datetime - \n__________________________________________________\n",
     "output_type": "stream"
    },
    {
     "data": {
      "text/plain": "              datetime\n456 00:00:00        42\n120 00:00:00        41\n315 00:00:00        39\n376 00:00:00        39\n406 00:00:00        39",
      "text/html": "<div>\n<style scoped>\n    .dataframe tbody tr th:only-of-type {\n        vertical-align: middle;\n    }\n\n    .dataframe tbody tr th {\n        vertical-align: top;\n    }\n\n    .dataframe thead th {\n        text-align: right;\n    }\n</style>\n<table border=\"1\" class=\"dataframe\">\n  <thead>\n    <tr style=\"text-align: right;\">\n      <th></th>\n      <th>datetime</th>\n    </tr>\n  </thead>\n  <tbody>\n    <tr>\n      <th>456 00:00:00</th>\n      <td>42</td>\n    </tr>\n    <tr>\n      <th>120 00:00:00</th>\n      <td>41</td>\n    </tr>\n    <tr>\n      <th>315 00:00:00</th>\n      <td>39</td>\n    </tr>\n    <tr>\n      <th>376 00:00:00</th>\n      <td>39</td>\n    </tr>\n    <tr>\n      <th>406 00:00:00</th>\n      <td>39</td>\n    </tr>\n  </tbody>\n</table>\n</div>"
     },
     "metadata": {},
     "output_type": "display_data"
    },
    {
     "name": "stdout",
     "text": "code - \n__________________________________________________\n",
     "output_type": "stream"
    },
    {
     "data": {
      "text/plain": "       code\n6011  19538\n6010  14093\n4814  13044\n5411  13003\n4829   8134",
      "text/html": "<div>\n<style scoped>\n    .dataframe tbody tr th:only-of-type {\n        vertical-align: middle;\n    }\n\n    .dataframe tbody tr th {\n        vertical-align: top;\n    }\n\n    .dataframe thead th {\n        text-align: right;\n    }\n</style>\n<table border=\"1\" class=\"dataframe\">\n  <thead>\n    <tr style=\"text-align: right;\">\n      <th></th>\n      <th>code</th>\n    </tr>\n  </thead>\n  <tbody>\n    <tr>\n      <th>6011</th>\n      <td>19538</td>\n    </tr>\n    <tr>\n      <th>6010</th>\n      <td>14093</td>\n    </tr>\n    <tr>\n      <th>4814</th>\n      <td>13044</td>\n    </tr>\n    <tr>\n      <th>5411</th>\n      <td>13003</td>\n    </tr>\n    <tr>\n      <th>4829</th>\n      <td>8134</td>\n    </tr>\n  </tbody>\n</table>\n</div>"
     },
     "metadata": {},
     "output_type": "display_data"
    },
    {
     "name": "stdout",
     "text": "type - \n__________________________________________________\n",
     "output_type": "stream"
    },
    {
     "data": {
      "text/plain": "       type\n1010  21427\n2010  14135\n1030  12848\n1110  12276\n7070   9808",
      "text/html": "<div>\n<style scoped>\n    .dataframe tbody tr th:only-of-type {\n        vertical-align: middle;\n    }\n\n    .dataframe tbody tr th {\n        vertical-align: top;\n    }\n\n    .dataframe thead th {\n        text-align: right;\n    }\n</style>\n<table border=\"1\" class=\"dataframe\">\n  <thead>\n    <tr style=\"text-align: right;\">\n      <th></th>\n      <th>type</th>\n    </tr>\n  </thead>\n  <tbody>\n    <tr>\n      <th>1010</th>\n      <td>21427</td>\n    </tr>\n    <tr>\n      <th>2010</th>\n      <td>14135</td>\n    </tr>\n    <tr>\n      <th>1030</th>\n      <td>12848</td>\n    </tr>\n    <tr>\n      <th>1110</th>\n      <td>12276</td>\n    </tr>\n    <tr>\n      <th>7070</th>\n      <td>9808</td>\n    </tr>\n  </tbody>\n</table>\n</div>"
     },
     "metadata": {},
     "output_type": "display_data"
    },
    {
     "name": "stdout",
     "text": "sum - \n__________________________________________________\n",
     "output_type": "stream"
    },
    {
     "data": {
      "text/plain": "            sum\n-2245.92   5188\n-11229.58  2643\n-1122.96   2606\n-22459.16  2582\n-4491.83   2434",
      "text/html": "<div>\n<style scoped>\n    .dataframe tbody tr th:only-of-type {\n        vertical-align: middle;\n    }\n\n    .dataframe tbody tr th {\n        vertical-align: top;\n    }\n\n    .dataframe thead th {\n        text-align: right;\n    }\n</style>\n<table border=\"1\" class=\"dataframe\">\n  <thead>\n    <tr style=\"text-align: right;\">\n      <th></th>\n      <th>sum</th>\n    </tr>\n  </thead>\n  <tbody>\n    <tr>\n      <th>-2245.92</th>\n      <td>5188</td>\n    </tr>\n    <tr>\n      <th>-11229.58</th>\n      <td>2643</td>\n    </tr>\n    <tr>\n      <th>-1122.96</th>\n      <td>2606</td>\n    </tr>\n    <tr>\n      <th>-22459.16</th>\n      <td>2582</td>\n    </tr>\n    <tr>\n      <th>-4491.83</th>\n      <td>2434</td>\n    </tr>\n  </tbody>\n</table>\n</div>"
     },
     "metadata": {},
     "output_type": "display_data"
    },
    {
     "name": "stdout",
     "text": "target - \n__________________________________________________\n",
     "output_type": "stream"
    },
    {
     "data": {
      "application/vnd.deepnote.dataframe.v3+json": {
       "column_count": 1,
       "row_count": 2,
       "columns": [
        {
         "name": "target",
         "dtype": "int64",
         "stats": {
          "unique_count": 2,
          "nan_count": 0,
          "min": "45111",
          "max": "46715",
          "histogram": [
           {
            "bin_start": 45111,
            "bin_end": 45271.4,
            "count": 1
           },
           {
            "bin_start": 45271.4,
            "bin_end": 45431.8,
            "count": 0
           },
           {
            "bin_start": 45431.8,
            "bin_end": 45592.2,
            "count": 0
           },
           {
            "bin_start": 45592.2,
            "bin_end": 45752.6,
            "count": 0
           },
           {
            "bin_start": 45752.6,
            "bin_end": 45913,
            "count": 0
           },
           {
            "bin_start": 45913,
            "bin_end": 46073.4,
            "count": 0
           },
           {
            "bin_start": 46073.4,
            "bin_end": 46233.8,
            "count": 0
           },
           {
            "bin_start": 46233.8,
            "bin_end": 46394.2,
            "count": 0
           },
           {
            "bin_start": 46394.2,
            "bin_end": 46554.6,
            "count": 0
           },
           {
            "bin_start": 46554.6,
            "bin_end": 46715,
            "count": 1
           }
          ]
         }
        },
        {
         "name": "_deepnote_index_column",
         "dtype": "float64"
        }
       ],
       "rows": [
        {
         "target": 46715,
         "_deepnote_index_column": 0
        },
        {
         "target": 45111,
         "_deepnote_index_column": 1
        }
       ]
      },
      "text/plain": "     target\n0.0   46715\n1.0   45111",
      "text/html": "<div>\n<style scoped>\n    .dataframe tbody tr th:only-of-type {\n        vertical-align: middle;\n    }\n\n    .dataframe tbody tr th {\n        vertical-align: top;\n    }\n\n    .dataframe thead th {\n        text-align: right;\n    }\n</style>\n<table border=\"1\" class=\"dataframe\">\n  <thead>\n    <tr style=\"text-align: right;\">\n      <th></th>\n      <th>target</th>\n    </tr>\n  </thead>\n  <tbody>\n    <tr>\n      <th>0.0</th>\n      <td>46715</td>\n    </tr>\n    <tr>\n      <th>1.0</th>\n      <td>45111</td>\n    </tr>\n  </tbody>\n</table>\n</div>"
     },
     "metadata": {},
     "output_type": "display_data"
    }
   ]
  },
  {
   "cell_type": "markdown",
   "source": "### II. Exploratory data analysis. Exploring the features, visualizations etc.",
   "metadata": {
    "cell_id": "9919daf7-4109-4b0c-82b2-0eb80fefc882",
    "tags": [],
    "deepnote_cell_type": "markdown"
   }
  },
  {
   "cell_type": "code",
   "metadata": {
    "cell_id": "41f89469-03eb-437d-b53a-f6bbf54fa705",
    "tags": [],
    "deepnote_to_be_reexecuted": false,
    "source_hash": "8511741a",
    "execution_start": 1645557666943,
    "execution_millis": 2448,
    "deepnote_cell_type": "code"
   },
   "source": "data_num.hist(figsize=(15, 15), bins=40); ",
   "execution_count": 13,
   "outputs": [
    {
     "data": {
      "text/plain": "<Figure size 1080x1080 with 6 Axes>",
      "image/png": "[encoded data removed]"
     },
     "metadata": {
      "needs_background": "light",
      "image/png": {
       "width": 889,
       "height": 862
      }
     },
     "output_type": "display_data"
    }
   ]
  },
  {
   "cell_type": "code",
   "metadata": {
    "cell_id": "5ba33936-3372-49a6-93e0-f37ec2c6b538",
    "tags": [],
    "deepnote_to_be_reexecuted": false,
    "source_hash": "f8ea06ee",
    "execution_start": 1645557669443,
    "execution_millis": 513,
    "deepnote_cell_type": "code"
   },
   "source": "corr = data.corr()\ng = sns.heatmap(corr,  vmax=.3, center=0,\n            square=True, linewidths=.5, cbar_kws={\"shrink\": .5}, annot=True, fmt='.2f', cmap='coolwarm')\nsns.despine()\ng.figure.set_size_inches(14,10)\n\nplt.show()",
   "execution_count": 14,
   "outputs": [
    {
     "data": {
      "text/plain": "<Figure size 1008x720 with 2 Axes>",
      "image/png": "[encoded data removed]"
     },
     "metadata": {
      "needs_background": "light",
      "image/png": {
       "width": 657,
       "height": 575
      }
     },
     "output_type": "display_data"
    }
   ]
  },
  {
   "cell_type": "code",
   "metadata": {
    "cell_id": "7347aa87-4f97-4664-bbe2-dc1e7304d870",
    "tags": [],
    "deepnote_to_be_reexecuted": false,
    "source_hash": "eb91d47e",
    "execution_start": 1645557670006,
    "execution_millis": 9,
    "deepnote_cell_type": "code"
   },
   "source": "z = data[data['sum']<0]\nprint(z)",
   "execution_count": 15,
   "outputs": [
    {
     "name": "stdout",
     "text": "        client_id      datetime  code  type        sum  target\n0           22899  231 09:31:53  6011  2110   -6737.75     1.0\n1           22899  349 16:34:52  6011  4010   -8759.07     1.0\n2           22899  441 15:36:37  6011  4010   -8759.07     1.0\n3           22899  167 09:50:12  4814  1030   -1122.96     1.0\n4           22899  221 18:54:19  5399  1110   -4626.59     1.0\n...           ...           ...   ...   ...        ...     ...\n129994   99911226  259 15:16:17  5411  1010  -26629.82     0.0\n130014   99967537  332 09:55:60  6011  2010 -336887.37     1.0\n130019   99985917   61 11:42:26  6011  2010 -224591.58     0.0\n130020   99991245  375 06:38:58  4829  2330  -67377.47     1.0\n130021   99991245  292 11:20:02  5499  1010  -16574.86     1.0\n\n[73733 rows x 6 columns]\n",
     "output_type": "stream"
    }
   ]
  },
  {
   "cell_type": "code",
   "metadata": {
    "cell_id": "305fc18e-36c3-4e97-ab2e-60afd9f39a77",
    "tags": [],
    "deepnote_to_be_reexecuted": false,
    "source_hash": "cddda0fc",
    "execution_start": 1645557670007,
    "execution_millis": 43,
    "deepnote_cell_type": "code"
   },
   "source": "z.shape[0]",
   "execution_count": 16,
   "outputs": [
    {
     "output_type": "execute_result",
     "execution_count": 16,
     "data": {
      "text/plain": "73733"
     },
     "metadata": {}
    }
   ]
  },
  {
   "cell_type": "code",
   "metadata": {
    "cell_id": "c5749f7d-6153-4a8f-b43d-95f189908407",
    "tags": [],
    "deepnote_to_be_reexecuted": false,
    "source_hash": "7cd612d7",
    "execution_start": 1645557670045,
    "execution_millis": 8502771,
    "deepnote_cell_type": "code"
   },
   "source": "y = data[data['sum']>0]\nprint(y)",
   "execution_count": 17,
   "outputs": [
    {
     "name": "stdout",
     "text": "        client_id      datetime  code  type        sum  target\n6           22899  352 10:45:57  6010  7071   17967.33     1.0\n7           22899   61 20:53:04  6010  7030   22459.16     1.0\n8           22899  344 11:45:23  6011  7010   44918.32     1.0\n9           27914  292 10:50:34  6011  7010   11229.58     1.0\n11          27914  141 13:20:55  6010  7020   67377.47     1.0\n...           ...           ...   ...   ...        ...     ...\n129946   99849205  409 14:44:35  6011  7010   24705.07     1.0\n129971   99882949  393 08:59:16  6011  7010  224591.58     0.0\n129973   99882949  119 07:09:44  6010  7070   73351.61     0.0\n130022   99991245  306 06:18:20  6011  7010  561478.94     1.0\n130023   99991245  306 06:20:43  6011  7010   92082.55     1.0\n\n[18093 rows x 6 columns]\n",
     "output_type": "stream"
    }
   ]
  },
  {
   "cell_type": "code",
   "metadata": {
    "cell_id": "0cb3aec8-9adc-4227-a2b5-a8d1daf9de3f",
    "tags": [],
    "deepnote_to_be_reexecuted": false,
    "source_hash": "940eb2f3",
    "execution_start": 1645557670087,
    "execution_millis": 8502775,
    "deepnote_cell_type": "code"
   },
   "source": "y.shape[0]",
   "execution_count": 18,
   "outputs": [
    {
     "output_type": "execute_result",
     "execution_count": 18,
     "data": {
      "text/plain": "18093"
     },
     "metadata": {}
    }
   ]
  },
  {
   "cell_type": "code",
   "metadata": {
    "cell_id": "f9d01b1e-9ff7-492b-b255-1f4638d6647a",
    "tags": [],
    "deepnote_to_be_reexecuted": false,
    "source_hash": "3802f816",
    "execution_start": 1645557670091,
    "execution_millis": 116,
    "deepnote_cell_type": "code"
   },
   "source": "fig = plt.figure()\nax = fig.add_axes([0,0,1,1])\nax.axis('equal')\nsum_2 = [z.shape[0],y.shape[0]]\ncount_sum = [z.shape[0],y.shape[0]]\nax.pie(count_sum,autopct='%1.2f%%')\nplt.show()",
   "execution_count": 19,
   "outputs": [
    {
     "data": {
      "text/plain": "<Figure size 432x288 with 1 Axes>",
      "image/png": "[encoded data removed]"
     },
     "metadata": {
      "image/png": {
       "width": 446,
       "height": 302
      }
     },
     "output_type": "display_data"
    }
   ]
  },
  {
   "cell_type": "markdown",
   "source": "### III. Feature engineering. \n#### Encodings, generating the features from date-time, sum and from other columns.",
   "metadata": {
    "cell_id": "85d6c63a-69a6-42ba-ae62-9d337f300bf8",
    "tags": [],
    "deepnote_cell_type": "markdown"
   }
  },
  {
   "cell_type": "code",
   "metadata": {
    "cell_id": "b4c7384e-9a19-40df-a405-2982706f3439",
    "tags": [],
    "deepnote_to_be_reexecuted": false,
    "source_hash": "c24174f1",
    "execution_start": 1645557670223,
    "execution_millis": 1101,
    "deepnote_cell_type": "code"
   },
   "source": "data[[\"day\", \"time\"]] = data[\"datetime\"].str.split(' ', 0, expand=True)\ndata[[\"hours\", \"minute\", \"seconds\"]] = data[\"time\"].str.split(':', 0, expand=True)\n\ndata.day = data.day.astype(int)\ndata.hours = data.hours.astype(int)\ndata.minute = data.minute.astype(int)\ndata.seconds = data.seconds.astype(int)\ndata.target = data.target.astype(int)\n\ndata[\"weekday\"] = data.day % 7\n\ndata = data.drop(columns=[\"datetime\", \"time\"])\n\nprint(data.dtypes)\n\ndata.head()",
   "execution_count": 20,
   "outputs": [
    {
     "name": "stdout",
     "text": "client_id      int64\ncode           int64\ntype           int64\nsum          float64\ntarget         int64\nday            int64\nhours          int64\nminute         int64\nseconds        int64\nweekday        int64\ndtype: object\n",
     "output_type": "stream"
    },
    {
     "output_type": "execute_result",
     "execution_count": 20,
     "data": {
      "application/vnd.deepnote.dataframe.v3+json": {
       "column_count": 10,
       "row_count": 5,
       "columns": [
        {
         "name": "client_id",
         "dtype": "int64",
         "stats": {
          "unique_count": 1,
          "nan_count": 0,
          "min": "22899",
          "max": "22899",
          "histogram": [
           {
            "bin_start": 22898.5,
            "bin_end": 22898.6,
            "count": 0
           },
           {
            "bin_start": 22898.6,
            "bin_end": 22898.7,
            "count": 0
           },
           {
            "bin_start": 22898.7,
            "bin_end": 22898.8,
            "count": 0
           },
           {
            "bin_start": 22898.8,
            "bin_end": 22898.9,
            "count": 0
           },
           {
            "bin_start": 22898.9,
            "bin_end": 22899,
            "count": 0
           },
           {
            "bin_start": 22899,
            "bin_end": 22899.1,
            "count": 5
           },
           {
            "bin_start": 22899.1,
            "bin_end": 22899.2,
            "count": 0
           },
           {
            "bin_start": 22899.2,
            "bin_end": 22899.3,
            "count": 0
           },
           {
            "bin_start": 22899.3,
            "bin_end": 22899.4,
            "count": 0
           },
           {
            "bin_start": 22899.4,
            "bin_end": 22899.5,
            "count": 0
           }
          ]
         }
        },
        {
         "name": "code",
         "dtype": "int64",
         "stats": {
          "unique_count": 3,
          "nan_count": 0,
          "min": "4814",
          "max": "6011",
          "histogram": [
           {
            "bin_start": 4814,
            "bin_end": 4933.7,
            "count": 1
           },
           {
            "bin_start": 4933.7,
            "bin_end": 5053.4,
            "count": 0
           },
           {
            "bin_start": 5053.4,
            "bin_end": 5173.1,
            "count": 0
           },
           {
            "bin_start": 5173.1,
            "bin_end": 5292.8,
            "count": 0
           },
           {
            "bin_start": 5292.8,
            "bin_end": 5412.5,
            "count": 1
           },
           {
            "bin_start": 5412.5,
            "bin_end": 5532.2,
            "count": 0
           },
           {
            "bin_start": 5532.2,
            "bin_end": 5651.9,
            "count": 0
           },
           {
            "bin_start": 5651.9,
            "bin_end": 5771.6,
            "count": 0
           },
           {
            "bin_start": 5771.6,
            "bin_end": 5891.3,
            "count": 0
           },
           {
            "bin_start": 5891.3,
            "bin_end": 6011,
            "count": 3
           }
          ]
         }
        },
        {
         "name": "type",
         "dtype": "int64",
         "stats": {
          "unique_count": 4,
          "nan_count": 0,
          "min": "1030",
          "max": "4010",
          "histogram": [
           {
            "bin_start": 1030,
            "bin_end": 1328,
            "count": 2
           },
           {
            "bin_start": 1328,
            "bin_end": 1626,
            "count": 0
           },
           {
            "bin_start": 1626,
            "bin_end": 1924,
            "count": 0
           },
           {
            "bin_start": 1924,
            "bin_end": 2222,
            "count": 1
           },
           {
            "bin_start": 2222,
            "bin_end": 2520,
            "count": 0
           },
           {
            "bin_start": 2520,
            "bin_end": 2818,
            "count": 0
           },
           {
            "bin_start": 2818,
            "bin_end": 3116,
            "count": 0
           },
           {
            "bin_start": 3116,
            "bin_end": 3414,
            "count": 0
           },
           {
            "bin_start": 3414,
            "bin_end": 3712,
            "count": 0
           },
           {
            "bin_start": 3712,
            "bin_end": 4010,
            "count": 2
           }
          ]
         }
        },
        {
         "name": "sum",
         "dtype": "float64",
         "stats": {
          "unique_count": 4,
          "nan_count": 0,
          "min": "-8759.07",
          "max": "-1122.96",
          "histogram": [
           {
            "bin_start": -8759.07,
            "bin_end": -7995.459,
            "count": 2
           },
           {
            "bin_start": -7995.459,
            "bin_end": -7231.848,
            "count": 0
           },
           {
            "bin_start": -7231.848,
            "bin_end": -6468.236999999999,
            "count": 1
           },
           {
            "bin_start": -6468.236999999999,
            "bin_end": -5704.626,
            "count": 0
           },
           {
            "bin_start": -5704.626,
            "bin_end": -4941.014999999999,
            "count": 0
           },
           {
            "bin_start": -4941.014999999999,
            "bin_end": -4177.4039999999995,
            "count": 1
           },
           {
            "bin_start": -4177.4039999999995,
            "bin_end": -3413.7929999999997,
            "count": 0
           },
           {
            "bin_start": -3413.7929999999997,
            "bin_end": -2650.182,
            "count": 0
           },
           {
            "bin_start": -2650.182,
            "bin_end": -1886.571,
            "count": 0
           },
           {
            "bin_start": -1886.571,
            "bin_end": -1122.96,
            "count": 1
           }
          ]
         }
        },
        {
         "name": "target",
         "dtype": "int64",
         "stats": {
          "unique_count": 1,
          "nan_count": 0,
          "min": "1",
          "max": "1",
          "histogram": [
           {
            "bin_start": 0.5,
            "bin_end": 0.6,
            "count": 0
           },
           {
            "bin_start": 0.6,
            "bin_end": 0.7,
            "count": 0
           },
           {
            "bin_start": 0.7,
            "bin_end": 0.8,
            "count": 0
           },
           {
            "bin_start": 0.8,
            "bin_end": 0.9,
            "count": 0
           },
           {
            "bin_start": 0.9,
            "bin_end": 1,
            "count": 0
           },
           {
            "bin_start": 1,
            "bin_end": 1.1,
            "count": 5
           },
           {
            "bin_start": 1.1,
            "bin_end": 1.2000000000000002,
            "count": 0
           },
           {
            "bin_start": 1.2000000000000002,
            "bin_end": 1.3,
            "count": 0
           },
           {
            "bin_start": 1.3,
            "bin_end": 1.4,
            "count": 0
           },
           {
            "bin_start": 1.4,
            "bin_end": 1.5,
            "count": 0
           }
          ]
         }
        },
        {
         "name": "day",
         "dtype": "int64",
         "stats": {
          "unique_count": 5,
          "nan_count": 0,
          "min": "167",
          "max": "441",
          "histogram": [
           {
            "bin_start": 167,
            "bin_end": 194.4,
            "count": 1
           },
           {
            "bin_start": 194.4,
            "bin_end": 221.8,
            "count": 1
           },
           {
            "bin_start": 221.8,
            "bin_end": 249.2,
            "count": 1
           },
           {
            "bin_start": 249.2,
            "bin_end": 276.6,
            "count": 0
           },
           {
            "bin_start": 276.6,
            "bin_end": 304,
            "count": 0
           },
           {
            "bin_start": 304,
            "bin_end": 331.4,
            "count": 0
           },
           {
            "bin_start": 331.4,
            "bin_end": 358.79999999999995,
            "count": 1
           },
           {
            "bin_start": 358.79999999999995,
            "bin_end": 386.2,
            "count": 0
           },
           {
            "bin_start": 386.2,
            "bin_end": 413.6,
            "count": 0
           },
           {
            "bin_start": 413.6,
            "bin_end": 441,
            "count": 1
           }
          ]
         }
        },
        {
         "name": "hours",
         "dtype": "int64",
         "stats": {
          "unique_count": 4,
          "nan_count": 0,
          "min": "9",
          "max": "18",
          "histogram": [
           {
            "bin_start": 9,
            "bin_end": 9.9,
            "count": 2
           },
           {
            "bin_start": 9.9,
            "bin_end": 10.8,
            "count": 0
           },
           {
            "bin_start": 10.8,
            "bin_end": 11.7,
            "count": 0
           },
           {
            "bin_start": 11.7,
            "bin_end": 12.6,
            "count": 0
           },
           {
            "bin_start": 12.6,
            "bin_end": 13.5,
            "count": 0
           },
           {
            "bin_start": 13.5,
            "bin_end": 14.4,
            "count": 0
           },
           {
            "bin_start": 14.4,
            "bin_end": 15.3,
            "count": 1
           },
           {
            "bin_start": 15.3,
            "bin_end": 16.2,
            "count": 1
           },
           {
            "bin_start": 16.2,
            "bin_end": 17.1,
            "count": 0
           },
           {
            "bin_start": 17.1,
            "bin_end": 18,
            "count": 1
           }
          ]
         }
        },
        {
         "name": "minute",
         "dtype": "int64",
         "stats": {
          "unique_count": 5,
          "nan_count": 0,
          "min": "31",
          "max": "54",
          "histogram": [
           {
            "bin_start": 31,
            "bin_end": 33.3,
            "count": 1
           },
           {
            "bin_start": 33.3,
            "bin_end": 35.6,
            "count": 1
           },
           {
            "bin_start": 35.6,
            "bin_end": 37.9,
            "count": 1
           },
           {
            "bin_start": 37.9,
            "bin_end": 40.2,
            "count": 0
           },
           {
            "bin_start": 40.2,
            "bin_end": 42.5,
            "count": 0
           },
           {
            "bin_start": 42.5,
            "bin_end": 44.8,
            "count": 0
           },
           {
            "bin_start": 44.8,
            "bin_end": 47.099999999999994,
            "count": 0
           },
           {
            "bin_start": 47.099999999999994,
            "bin_end": 49.4,
            "count": 0
           },
           {
            "bin_start": 49.4,
            "bin_end": 51.7,
            "count": 1
           },
           {
            "bin_start": 51.7,
            "bin_end": 54,
            "count": 1
           }
          ]
         }
        },
        {
         "name": "seconds",
         "dtype": "int64",
         "stats": {
          "unique_count": 5,
          "nan_count": 0,
          "min": "12",
          "max": "53",
          "histogram": [
           {
            "bin_start": 12,
            "bin_end": 16.1,
            "count": 1
           },
           {
            "bin_start": 16.1,
            "bin_end": 20.2,
            "count": 1
           },
           {
            "bin_start": 20.2,
            "bin_end": 24.299999999999997,
            "count": 0
           },
           {
            "bin_start": 24.299999999999997,
            "bin_end": 28.4,
            "count": 0
           },
           {
            "bin_start": 28.4,
            "bin_end": 32.5,
            "count": 0
           },
           {
            "bin_start": 32.5,
            "bin_end": 36.599999999999994,
            "count": 0
           },
           {
            "bin_start": 36.599999999999994,
            "bin_end": 40.699999999999996,
            "count": 1
           },
           {
            "bin_start": 40.699999999999996,
            "bin_end": 44.8,
            "count": 0
           },
           {
            "bin_start": 44.8,
            "bin_end": 48.9,
            "count": 0
           },
           {
            "bin_start": 48.9,
            "bin_end": 53,
            "count": 2
           }
          ]
         }
        },
        {
         "name": "weekday",
         "dtype": "int64",
         "stats": {
          "unique_count": 3,
          "nan_count": 0,
          "min": "0",
          "max": "6",
          "histogram": [
           {
            "bin_start": 0,
            "bin_end": 0.6,
            "count": 2
           },
           {
            "bin_start": 0.6,
            "bin_end": 1.2,
            "count": 0
           },
           {
            "bin_start": 1.2,
            "bin_end": 1.7999999999999998,
            "count": 0
           },
           {
            "bin_start": 1.7999999999999998,
            "bin_end": 2.4,
            "count": 0
           },
           {
            "bin_start": 2.4,
            "bin_end": 3,
            "count": 0
           },
           {
            "bin_start": 3,
            "bin_end": 3.5999999999999996,
            "count": 0
           },
           {
            "bin_start": 3.5999999999999996,
            "bin_end": 4.2,
            "count": 1
           },
           {
            "bin_start": 4.2,
            "bin_end": 4.8,
            "count": 0
           },
           {
            "bin_start": 4.8,
            "bin_end": 5.3999999999999995,
            "count": 0
           },
           {
            "bin_start": 5.3999999999999995,
            "bin_end": 6,
            "count": 2
           }
          ]
         }
        },
        {
         "name": "_deepnote_index_column",
         "dtype": "int64"
        }
       ],
       "rows": [
        {
         "client_id": 22899,
         "code": 6011,
         "type": 2110,
         "sum": -6737.75,
         "target": 1,
         "day": 231,
         "hours": 9,
         "minute": 31,
         "seconds": 53,
         "weekday": 0,
         "_deepnote_index_column": 0
        },
        {
         "client_id": 22899,
         "code": 6011,
         "type": 4010,
         "sum": -8759.07,
         "target": 1,
         "day": 349,
         "hours": 16,
         "minute": 34,
         "seconds": 52,
         "weekday": 6,
         "_deepnote_index_column": 1
        },
        {
         "client_id": 22899,
         "code": 6011,
         "type": 4010,
         "sum": -8759.07,
         "target": 1,
         "day": 441,
         "hours": 15,
         "minute": 36,
         "seconds": 37,
         "weekday": 0,
         "_deepnote_index_column": 2
        },
        {
         "client_id": 22899,
         "code": 4814,
         "type": 1030,
         "sum": -1122.96,
         "target": 1,
         "day": 167,
         "hours": 9,
         "minute": 50,
         "seconds": 12,
         "weekday": 6,
         "_deepnote_index_column": 3
        },
        {
         "client_id": 22899,
         "code": 5399,
         "type": 1110,
         "sum": -4626.59,
         "target": 1,
         "day": 221,
         "hours": 18,
         "minute": 54,
         "seconds": 19,
         "weekday": 4,
         "_deepnote_index_column": 4
        }
       ]
      },
      "text/plain": "   client_id  code  type      sum  target  day  hours  minute  seconds  \\\n0      22899  6011  2110 -6737.75       1  231      9      31       53   \n1      22899  6011  4010 -8759.07       1  349     16      34       52   \n2      22899  6011  4010 -8759.07       1  441     15      36       37   \n3      22899  4814  1030 -1122.96       1  167      9      50       12   \n4      22899  5399  1110 -4626.59       1  221     18      54       19   \n\n   weekday  \n0        0  \n1        6  \n2        0  \n3        6  \n4        4  ",
      "text/html": "<div>\n<style scoped>\n    .dataframe tbody tr th:only-of-type {\n        vertical-align: middle;\n    }\n\n    .dataframe tbody tr th {\n        vertical-align: top;\n    }\n\n    .dataframe thead th {\n        text-align: right;\n    }\n</style>\n<table border=\"1\" class=\"dataframe\">\n  <thead>\n    <tr style=\"text-align: right;\">\n      <th></th>\n      <th>client_id</th>\n      <th>code</th>\n      <th>type</th>\n      <th>sum</th>\n      <th>target</th>\n      <th>day</th>\n      <th>hours</th>\n      <th>minute</th>\n      <th>seconds</th>\n      <th>weekday</th>\n    </tr>\n  </thead>\n  <tbody>\n    <tr>\n      <th>0</th>\n      <td>22899</td>\n      <td>6011</td>\n      <td>2110</td>\n      <td>-6737.75</td>\n      <td>1</td>\n      <td>231</td>\n      <td>9</td>\n      <td>31</td>\n      <td>53</td>\n      <td>0</td>\n    </tr>\n    <tr>\n      <th>1</th>\n      <td>22899</td>\n      <td>6011</td>\n      <td>4010</td>\n      <td>-8759.07</td>\n      <td>1</td>\n      <td>349</td>\n      <td>16</td>\n      <td>34</td>\n      <td>52</td>\n      <td>6</td>\n    </tr>\n    <tr>\n      <th>2</th>\n      <td>22899</td>\n      <td>6011</td>\n      <td>4010</td>\n      <td>-8759.07</td>\n      <td>1</td>\n      <td>441</td>\n      <td>15</td>\n      <td>36</td>\n      <td>37</td>\n      <td>0</td>\n    </tr>\n    <tr>\n      <th>3</th>\n      <td>22899</td>\n      <td>4814</td>\n      <td>1030</td>\n      <td>-1122.96</td>\n      <td>1</td>\n      <td>167</td>\n      <td>9</td>\n      <td>50</td>\n      <td>12</td>\n      <td>6</td>\n    </tr>\n    <tr>\n      <th>4</th>\n      <td>22899</td>\n      <td>5399</td>\n      <td>1110</td>\n      <td>-4626.59</td>\n      <td>1</td>\n      <td>221</td>\n      <td>18</td>\n      <td>54</td>\n      <td>19</td>\n      <td>4</td>\n    </tr>\n  </tbody>\n</table>\n</div>"
     },
     "metadata": {}
    }
   ]
  },
  {
   "cell_type": "code",
   "metadata": {
    "cell_id": "a4d9ae46-6d4f-4bf5-a7af-b07f647d14a5",
    "tags": [],
    "deepnote_to_be_reexecuted": false,
    "source_hash": "8e7d2309",
    "execution_start": 1645557671071,
    "execution_millis": 340,
    "deepnote_cell_type": "code"
   },
   "source": "x = data['day'].value_counts()[:100]\ny = data['code'].value_counts()[:100]\nplt.plot(x,y)\nplt.show()",
   "execution_count": 21,
   "outputs": [
    {
     "data": {
      "text/plain": "<Figure size 432x288 with 1 Axes>",
      "image/png": "[encoded data removed]"
     },
     "metadata": {
      "needs_background": "light",
      "image/png": {
       "width": 387,
       "height": 248
      }
     },
     "output_type": "display_data"
    }
   ]
  },
  {
   "cell_type": "code",
   "metadata": {
    "cell_id": "9f020a51-0372-4c44-83ed-6b422c097210",
    "tags": [],
    "deepnote_to_be_reexecuted": false,
    "source_hash": "4e192163",
    "execution_start": 1645557671375,
    "execution_millis": 548,
    "deepnote_cell_type": "code"
   },
   "source": "sns.displot(data['day'])\nplt.title('Count of Days')",
   "execution_count": 22,
   "outputs": [
    {
     "output_type": "execute_result",
     "execution_count": 22,
     "data": {
      "text/plain": "Text(0.5, 1.0, 'Count of Days')"
     },
     "metadata": {}
    },
    {
     "data": {
      "text/plain": "<Figure size 360x360 with 1 Axes>",
      "image/png": "[encoded data removed]"
     },
     "metadata": {
      "needs_background": "light",
      "image/png": {
       "width": 352,
       "height": 367
      }
     },
     "output_type": "display_data"
    }
   ]
  },
  {
   "cell_type": "code",
   "metadata": {
    "cell_id": "05fb8c66-7551-4e42-8ab7-8ebd6a91212b",
    "tags": [],
    "deepnote_to_be_reexecuted": false,
    "source_hash": "89d8637",
    "execution_start": 1645557671932,
    "execution_millis": 523,
    "deepnote_cell_type": "code"
   },
   "source": "sns.displot(data['weekday'])\nplt.title('Count of Week Days')",
   "execution_count": 23,
   "outputs": [
    {
     "output_type": "execute_result",
     "execution_count": 23,
     "data": {
      "text/plain": "Text(0.5, 1.0, 'Count of Week Days')"
     },
     "metadata": {}
    },
    {
     "data": {
      "text/plain": "<Figure size 360x360 with 1 Axes>",
      "image/png": "[encoded data removed]"
     },
     "metadata": {
      "needs_background": "light",
      "image/png": {
       "width": 352,
       "height": 368
      }
     },
     "output_type": "display_data"
    }
   ]
  },
  {
   "cell_type": "code",
   "metadata": {
    "cell_id": "9953f66d-e909-4e6a-b195-9d8ed39cabee",
    "tags": [],
    "deepnote_to_be_reexecuted": false,
    "source_hash": "b3dc31c5",
    "execution_start": 1645557672467,
    "execution_millis": 619,
    "deepnote_cell_type": "code"
   },
   "source": "sns.displot(data['hours'])\nplt.title('Count of Hours')",
   "execution_count": 24,
   "outputs": [
    {
     "output_type": "execute_result",
     "execution_count": 24,
     "data": {
      "text/plain": "Text(0.5, 1.0, 'Count of Hours')"
     },
     "metadata": {}
    },
    {
     "data": {
      "text/plain": "<Figure size 360x360 with 1 Axes>",
      "image/png": "[encoded data removed]"
     },
     "metadata": {
      "needs_background": "light",
      "image/png": {
       "width": 352,
       "height": 368
      }
     },
     "output_type": "display_data"
    }
   ]
  },
  {
   "cell_type": "markdown",
   "source": "### IV. Supervised learning. \n#### Build model for prediction the gender of the clients. Decision Trees, KNN, Random Forest. Tune the hyper parameters, grid search, cross validation etc. Visualization of the models etc.",
   "metadata": {
    "cell_id": "dd3950a9-c9ee-469e-b2f5-79e1bebbf77b",
    "tags": [],
    "deepnote_cell_type": "markdown"
   }
  },
  {
   "cell_type": "code",
   "metadata": {
    "cell_id": "9a63f457-880e-4a8a-9ab3-c0e28588bb6d",
    "tags": [],
    "deepnote_to_be_reexecuted": false,
    "source_hash": "1fb2ddc9",
    "execution_start": 1645557673093,
    "execution_millis": 31,
    "deepnote_cell_type": "code"
   },
   "source": "from sklearn.model_selection import train_test_split\nX = data.drop(columns=[\"target\"])\ny = data[\"target\"]\nX_train, X_test, y_train, y_test = train_test_split(X, y)",
   "execution_count": 25,
   "outputs": []
  },
  {
   "cell_type": "code",
   "metadata": {
    "cell_id": "3efb0567-d04b-44b2-be9e-a84cfcefe913",
    "tags": [],
    "deepnote_to_be_reexecuted": false,
    "source_hash": "61b59518",
    "execution_start": 1645557673130,
    "execution_millis": 10821,
    "deepnote_cell_type": "code"
   },
   "source": "from sklearn.model_selection import cross_val_score\nfrom sklearn.tree import DecisionTreeClassifier\nclf = DecisionTreeClassifier(random_state=0)\ncross_val_score(clf, X, y, cv=10)",
   "execution_count": 26,
   "outputs": [
    {
     "output_type": "execute_result",
     "execution_count": 26,
     "data": {
      "text/plain": "array([0.51181531, 0.49014483, 0.51083524, 0.49308505, 0.38712839,\n       0.44059675, 0.49183184, 0.60313657, 0.42256589, 0.49302984])"
     },
     "metadata": {}
    }
   ]
  },
  {
   "cell_type": "code",
   "metadata": {
    "cell_id": "d81e0c6c-3514-48a8-adb6-f493f77c2df6",
    "tags": [],
    "deepnote_to_be_reexecuted": false,
    "source_hash": "502a8aa2",
    "execution_start": 1645557683757,
    "execution_millis": 7975,
    "deepnote_cell_type": "code"
   },
   "source": "from sklearn.neighbors import KNeighborsClassifier\nclf = KNeighborsClassifier(n_neighbors=3)\ncross_val_score(clf, X, y, cv=10)",
   "execution_count": 27,
   "outputs": [
    {
     "output_type": "execute_result",
     "execution_count": 27,
     "data": {
      "text/plain": "array([0.51159752, 0.4599804 , 0.49058042, 0.48840248, 0.35816182,\n       0.42110421, 0.49194075, 0.60422566, 0.42256589, 0.49259421])"
     },
     "metadata": {}
    }
   ]
  },
  {
   "cell_type": "code",
   "metadata": {
    "cell_id": "c644408c-30d5-4605-8b60-b26545eee903",
    "tags": [],
    "deepnote_to_be_reexecuted": false,
    "source_hash": "9e19163",
    "execution_start": 1645557691735,
    "execution_millis": 298702,
    "deepnote_cell_type": "code"
   },
   "source": "from sklearn.ensemble import RandomForestClassifier\nclf = RandomForestClassifier()\ncross_val_score(clf, X, y, cv=10)",
   "execution_count": 28,
   "outputs": [
    {
     "output_type": "execute_result",
     "execution_count": 28,
     "data": {
      "text/plain": "array([0.51050855, 0.53740608, 0.54502886, 0.5228139 , 0.4006316 ,\n       0.428727  , 0.4924853 , 0.61021564, 0.4613374 , 0.49281202])"
     },
     "metadata": {}
    }
   ]
  },
  {
   "cell_type": "markdown",
   "source": "### V. Analyze models, Result comparison, ROC/AUC, precision and recall curves, deep analyzing.",
   "metadata": {
    "cell_id": "3ee866c2-9fa6-4316-825e-c63345e4b954",
    "tags": [],
    "deepnote_cell_type": "markdown"
   }
  },
  {
   "cell_type": "code",
   "metadata": {
    "cell_id": "b3d81817-0d6c-46d1-8937-9a77a009114a",
    "tags": [],
    "deepnote_to_be_reexecuted": false,
    "source_hash": "d6e6c68a",
    "execution_start": 1645557990435,
    "execution_millis": 4525,
    "deepnote_cell_type": "code"
   },
   "source": "param_dist = {\n    \"criterion\": [\"gini\", \"entropy\"],\n    \"splitter\": [\"best\", \"random\"],\n    \"max_depth\": [1,2,3]\n}\nrandom_search = RandomizedSearchCV(DecisionTreeClassifier(), param_distributions=param_dist, n_iter=10)\nrandom_search.fit(X_train, y_train)\nrandom_search.best_params_",
   "execution_count": 29,
   "outputs": [
    {
     "output_type": "execute_result",
     "execution_count": 29,
     "data": {
      "text/plain": "{'splitter': 'best', 'max_depth': 3, 'criterion': 'gini'}"
     },
     "metadata": {}
    }
   ]
  },
  {
   "cell_type": "code",
   "metadata": {
    "cell_id": "724dd6ab-1a38-433f-a388-816c73a4c4da",
    "tags": [],
    "deepnote_to_be_reexecuted": false,
    "source_hash": "3a78180a",
    "execution_start": 1645557995020,
    "execution_millis": 1023,
    "deepnote_cell_type": "code"
   },
   "source": "clf = DecisionTreeClassifier(splitter = 'best', max_depth = 3, criterion = 'entropy').fit(X_train, y_train)\ny_pred = clf.predict(X_test)\nprint(\"ROC/AUC:\", roc_auc_score(y_test, y_pred))\nprint(\"Precision:\", precision_score(y_test, y_pred))\nprecision, recall, _ = precision_recall_curve(y_test, y_pred)\nPrecisionRecallDisplay(precision=precision, recall=recall).plot()",
   "execution_count": 30,
   "outputs": [
    {
     "name": "stdout",
     "text": "ROC/AUC: 0.5333562679535987\nPrecision: 0.556589409575368\n",
     "output_type": "stream"
    },
    {
     "output_type": "execute_result",
     "execution_count": 30,
     "data": {
      "text/plain": "<sklearn.metrics._plot.precision_recall_curve.PrecisionRecallDisplay at 0x7ff9ba766f10>"
     },
     "metadata": {}
    },
    {
     "data": {
      "text/plain": "<Figure size 432x288 with 1 Axes>",
      "image/png": "[encoded data removed]"
     },
     "metadata": {
      "needs_background": "light",
      "image/png": {
       "width": 386,
       "height": 262
      }
     },
     "output_type": "display_data"
    }
   ]
  },
  {
   "cell_type": "code",
   "metadata": {
    "cell_id": "58211853-3c36-4c89-b09d-fbc30385e4e9",
    "tags": [],
    "deepnote_to_be_reexecuted": false,
    "source_hash": "269db5ca",
    "execution_start": 1645557996046,
    "execution_millis": 200609,
    "deepnote_cell_type": "code"
   },
   "source": "param_dist = {\n    \"n_neighbors\": [1,2,3,4,5,6,7,8,9,10],\n    \"weights\": [\"uniform\", \"distance\"],\n    \"algorithm\": [\"auto\", \"ball_tree\", \"kd_tree\", \"brute\"]\n}\nrandom_search = RandomizedSearchCV(KNeighborsClassifier(), param_distributions=param_dist, n_iter=10)\nrandom_search.fit(X_train, y_train)\nrandom_search.best_params_",
   "execution_count": 31,
   "outputs": [
    {
     "output_type": "execute_result",
     "execution_count": 31,
     "data": {
      "text/plain": "{'weights': 'uniform', 'n_neighbors': 1, 'algorithm': 'brute'}"
     },
     "metadata": {}
    }
   ]
  },
  {
   "cell_type": "code",
   "metadata": {
    "cell_id": "3f780e69-f7fb-4b75-9ce3-dfcf6725e5db",
    "tags": [],
    "deepnote_to_be_reexecuted": false,
    "source_hash": "ef3c5cee",
    "execution_start": 1645558196555,
    "execution_millis": 1528,
    "deepnote_cell_type": "code"
   },
   "source": "clf = KNeighborsClassifier(weights = 'uniform', n_neighbors = 1, algorithm = 'kd_tree').fit(X_train, y_train)\ny_pred = clf.predict(X_test)\nprint(\"ROC/AUC:\", roc_auc_score(y_test, y_pred))\nprint(\"Precision:\", precision_score(y_test, y_pred))\nprecision, recall, _ = precision_recall_curve(y_test, y_pred)\nPrecisionRecallDisplay(precision=precision, recall=recall).plot()",
   "execution_count": 32,
   "outputs": [
    {
     "name": "stdout",
     "text": "ROC/AUC: 0.9049816169512355\nPrecision: 0.9028834247302318\n",
     "output_type": "stream"
    },
    {
     "output_type": "execute_result",
     "execution_count": 32,
     "data": {
      "text/plain": "<sklearn.metrics._plot.precision_recall_curve.PrecisionRecallDisplay at 0x7ff9a918c9d0>"
     },
     "metadata": {}
    },
    {
     "data": {
      "text/plain": "<Figure size 432x288 with 1 Axes>",
      "image/png": "[encoded data removed]"
     },
     "metadata": {
      "needs_background": "light",
      "image/png": {
       "width": 386,
       "height": 262
      }
     },
     "output_type": "display_data"
    }
   ]
  },
  {
   "cell_type": "code",
   "metadata": {
    "cell_id": "a4035363-73fd-4fa8-955c-3bd1e3a22382",
    "tags": [],
    "deepnote_to_be_reexecuted": false,
    "source_hash": "9ad62009",
    "execution_start": 1645558198091,
    "execution_millis": 338679,
    "deepnote_cell_type": "code"
   },
   "source": "param_dist = {\n    \"n_estimators\": [100, 200, 300, 400],\n    \"criterion\": [\"gini\", \"entropy\"]\n}\nrandom_search = RandomizedSearchCV(RandomForestClassifier(), param_distributions=param_dist, n_iter=1)\nrandom_search.fit(X_train, y_train)\nrandom_search.best_params_",
   "execution_count": 33,
   "outputs": [
    {
     "output_type": "execute_result",
     "execution_count": 33,
     "data": {
      "text/plain": "{'n_estimators': 300, 'criterion': 'gini'}"
     },
     "metadata": {}
    }
   ]
  },
  {
   "cell_type": "code",
   "metadata": {
    "cell_id": "11e0ffb6-3d57-4d3a-91f4-d9d9fabca8b0",
    "tags": [],
    "deepnote_to_be_reexecuted": false,
    "source_hash": "24c3b742",
    "execution_start": 1645558536769,
    "execution_millis": 83188,
    "deepnote_cell_type": "code"
   },
   "source": "clf = RandomForestClassifier(n_estimators = 200, criterion = 'entropy').fit(X_train, y_train)\ny_pred = clf.predict(X_test)\nprint(\"ROC/AUC:\", roc_auc_score(y_test, y_pred))\nprint(\"Precision:\", precision_score(y_test, y_pred))\nprecision, recall, _ = precision_recall_curve(y_test, y_pred)\nPrecisionRecallDisplay(precision=precision, recall=recall).plot()",
   "execution_count": 34,
   "outputs": [
    {
     "name": "stdout",
     "text": "ROC/AUC: 0.6582185657139086\nPrecision: 0.6746199536897212\n",
     "output_type": "stream"
    },
    {
     "output_type": "execute_result",
     "execution_count": 34,
     "data": {
      "text/plain": "<sklearn.metrics._plot.precision_recall_curve.PrecisionRecallDisplay at 0x7ff9ab91ca90>"
     },
     "metadata": {}
    },
    {
     "data": {
      "text/plain": "<Figure size 432x288 with 1 Axes>",
      "image/png": "[encoded data removed]"
     },
     "metadata": {
      "needs_background": "light",
      "image/png": {
       "width": 386,
       "height": 262
      }
     },
     "output_type": "display_data"
    }
   ]
  },
  {
   "cell_type": "code",
   "metadata": {
    "cell_id": "bdf11bc6-d71d-4f73-bfb4-965f4f326ebe",
    "tags": [],
    "deepnote_to_be_reexecuted": false,
    "source_hash": "75398a8e",
    "execution_start": 1645558619981,
    "execution_millis": 5090,
    "deepnote_cell_type": "code"
   },
   "source": "param_dist = {\n    \"criterion\": [\"gini\", \"entropy\"],\n    \"splitter\": [\"best\", \"random\"],\n    \"max_depth\": [1,2,3]\n}\ngrid_search = GridSearchCV(DecisionTreeClassifier(), param_dist)\ngrid_search.fit(X_train, y_train)\ngrid_search.best_params_",
   "execution_count": 35,
   "outputs": [
    {
     "output_type": "execute_result",
     "execution_count": 35,
     "data": {
      "text/plain": "{'criterion': 'gini', 'max_depth': 3, 'splitter': 'best'}"
     },
     "metadata": {}
    }
   ]
  },
  {
   "cell_type": "code",
   "metadata": {
    "cell_id": "36e82f36-617b-4914-879d-df0b4b403dc8",
    "tags": [],
    "deepnote_to_be_reexecuted": false,
    "source_hash": "ad2c0633",
    "execution_start": 1645558625072,
    "execution_millis": 776,
    "deepnote_cell_type": "code"
   },
   "source": "clf = DecisionTreeClassifier(splitter = 'best', max_depth = 3, criterion = 'gini').fit(X_train, y_train)\ny_pred = clf.predict(X_test)\nprint(\"ROC/AUC:\", roc_auc_score(y_test, y_pred))\nprint(\"Precision:\", precision_score(y_test, y_pred))\nprecision, recall, _ = precision_recall_curve(y_test, y_pred)\nPrecisionRecallDisplay(precision=precision, recall=recall).plot()",
   "execution_count": 36,
   "outputs": [
    {
     "name": "stdout",
     "text": "ROC/AUC: 0.5333562679535987\nPrecision: 0.556589409575368\n",
     "output_type": "stream"
    },
    {
     "output_type": "execute_result",
     "execution_count": 36,
     "data": {
      "text/plain": "<sklearn.metrics._plot.precision_recall_curve.PrecisionRecallDisplay at 0x7ff9ab91c050>"
     },
     "metadata": {}
    },
    {
     "data": {
      "text/plain": "<Figure size 432x288 with 1 Axes>",
      "image/png": "[encoded data removed]"
     },
     "metadata": {
      "needs_background": "light",
      "image/png": {
       "width": 386,
       "height": 262
      }
     },
     "output_type": "display_data"
    }
   ]
  },
  {
   "cell_type": "code",
   "metadata": {
    "cell_id": "51eec237-121d-47c7-b2d2-12d2e1f65858",
    "tags": [],
    "deepnote_to_be_reexecuted": false,
    "source_hash": "74421d7e",
    "execution_start": 1645558625654,
    "execution_millis": 680695,
    "deepnote_cell_type": "code"
   },
   "source": "param_dist = {\n    \"n_neighbors\": [1,2,3,4],\n    \"weights\": [\"uniform\", \"distance\"],\n    \"algorithm\": [\"auto\", \"ball_tree\", \"kd_tree\", \"brute\"]\n}\ngrid_search = GridSearchCV(KNeighborsClassifier(), param_dist)\ngrid_search.fit(X_train, y_train)\ngrid_search.best_params_",
   "execution_count": 37,
   "outputs": [
    {
     "output_type": "execute_result",
     "execution_count": 37,
     "data": {
      "text/plain": "{'algorithm': 'auto', 'n_neighbors': 1, 'weights': 'uniform'}"
     },
     "metadata": {}
    }
   ]
  },
  {
   "cell_type": "code",
   "metadata": {
    "cell_id": "16ce89c9-8b17-46e6-9952-215f439ac845",
    "tags": [],
    "deepnote_to_be_reexecuted": false,
    "source_hash": "b16d3c82",
    "execution_start": 1645559306348,
    "execution_millis": 1904,
    "deepnote_cell_type": "code"
   },
   "source": "clf = KNeighborsClassifier(weights = 'uniform', n_neighbors = 1, algorithm = 'auto').fit(X_train, y_train)\ny_pred = clf.predict(X_test)\nprint(\"ROC/AUC:\", roc_auc_score(y_test, y_pred))\nprint(\"Precision:\", precision_score(y_test, y_pred))\nprecision, recall, _ = precision_recall_curve(y_test, y_pred)\nPrecisionRecallDisplay(precision=precision, recall=recall).plot()",
   "execution_count": 38,
   "outputs": [
    {
     "name": "stdout",
     "text": "ROC/AUC: 0.9049816169512355\nPrecision: 0.9028834247302318\n",
     "output_type": "stream"
    },
    {
     "output_type": "execute_result",
     "execution_count": 38,
     "data": {
      "text/plain": "<sklearn.metrics._plot.precision_recall_curve.PrecisionRecallDisplay at 0x7ff9ab5fd310>"
     },
     "metadata": {}
    },
    {
     "data": {
      "text/plain": "<Figure size 432x288 with 1 Axes>",
      "image/png": "[encoded data removed]"
     },
     "metadata": {
      "needs_background": "light",
      "image/png": {
       "width": 386,
       "height": 262
      }
     },
     "output_type": "display_data"
    }
   ]
  },
  {
   "cell_type": "code",
   "metadata": {
    "cell_id": "71358f3b-f711-4c4e-8102-ba3a12b149e3",
    "tags": [],
    "deepnote_to_be_reexecuted": false,
    "source_hash": "ce67dbd4",
    "execution_start": 1645559308035,
    "execution_millis": 2532367,
    "deepnote_cell_type": "code"
   },
   "source": "param_dist = {\n    \"n_estimators\": [100, 200, 300, 400],\n    \"criterion\": [\"gini\", \"entropy\"]\n}\ngrid_search = GridSearchCV(RandomForestClassifier(), param_dist)\ngrid_search.fit(X_train, y_train)\ngrid_search.best_params_",
   "execution_count": 39,
   "outputs": [
    {
     "output_type": "execute_result",
     "execution_count": 39,
     "data": {
      "text/plain": "{'criterion': 'entropy', 'n_estimators': 400}"
     },
     "metadata": {}
    }
   ]
  },
  {
   "cell_type": "code",
   "metadata": {
    "cell_id": "266a70b8-5286-4511-a449-f39e62498cfe",
    "tags": [],
    "deepnote_to_be_reexecuted": false,
    "source_hash": "24c3b742",
    "execution_start": 1645561840399,
    "execution_millis": 124193,
    "deepnote_cell_type": "code"
   },
   "source": "clf = RandomForestClassifier(n_estimators = 200, criterion = 'entropy').fit(X_train, y_train)\ny_pred = clf.predict(X_test)\nprint(\"ROC/AUC:\", roc_auc_score(y_test, y_pred))\nprint(\"Precision:\", precision_score(y_test, y_pred))\nprecision, recall, _ = precision_recall_curve(y_test, y_pred)\nPrecisionRecallDisplay(precision=precision, recall=recall).plot()",
   "execution_count": 40,
   "outputs": [
    {
     "name": "stdout",
     "text": "ROC/AUC: 0.6583170960857924\nPrecision: 0.674439642175093\n",
     "output_type": "stream"
    },
    {
     "output_type": "execute_result",
     "execution_count": 40,
     "data": {
      "text/plain": "<sklearn.metrics._plot.precision_recall_curve.PrecisionRecallDisplay at 0x7ff9aa289e10>"
     },
     "metadata": {}
    },
    {
     "data": {
      "text/plain": "<Figure size 432x288 with 1 Axes>",
      "image/png": "[encoded data removed]"
     },
     "metadata": {
      "needs_background": "light",
      "image/png": {
       "width": 386,
       "height": 262
      }
     },
     "output_type": "display_data"
    }
   ]
  },
  {
   "cell_type": "markdown",
   "source": "<a style='text-decoration:none;line-height:16px;display:flex;color:#5B5B62;padding:10px;justify-content:end;' href='https://deepnote.com?utm_source=created-in-deepnote-cell&projectId=d265a561-830e-44f2-acfb-5523f0a1a222' target=\"_blank\">\n<img alt='Created in deepnote.com' style='display:inline;max-height:16px;margin:0px;margin-right:7.5px;' src='data:image/svg+xml;base64,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' > </img>\nCreated in <span style='font-weight:600;margin-left:4px;'>Deepnote</span></a>",
   "metadata": {
    "tags": [],
    "created_in_deepnote_cell": true,
    "deepnote_cell_type": "markdown"
   }
  }
 ],
 "nbformat": 4,
 "nbformat_minor": 2,
 "metadata": {
  "orig_nbformat": 2,
  "deepnote": {
   "is_reactive": false
  },
  "deepnote_notebook_id": "69338628-591e-4c1d-aaff-15f451c66c88",
  "deepnote_execution_queue": []
 }
}
